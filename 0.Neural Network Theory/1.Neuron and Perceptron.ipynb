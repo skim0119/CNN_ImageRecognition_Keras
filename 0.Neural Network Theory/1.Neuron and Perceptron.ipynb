{
 "cells": [
  {
   "cell_type": "markdown",
   "metadata": {},
   "source": [
    "# Biological and Artificial Neuron\n",
    "\n",
    "- Perceptron is inspired by the biological neuron cell of nerve system, and the idea is explored over many classification problems.\n",
    "- In this note, we will establish the concept of perceptron by looking at the biological neuron model.\n",
    "- We will overlook a brief implementation of perceptron."
   ]
  },
  {
   "cell_type": "markdown",
   "metadata": {},
   "source": [
    "## Biological Neural System\n",
    "\n",
    "![Neuron](https://upload.wikimedia.org/wikipedia/commons/b/bd/Neuron.jpg)\n",
    "\n",
    "The basic operation of the neuron is following:\n",
    "1. Recieve the electrical signal at dendrites.\n",
    "2. Signals gather in the cell body, create an electrical potential.\n",
    "3. If the potential is enough to overcome the myelin sheath's potential, signal pass through.\n",
    "4. Signal exit through axon terminal, and pass to the next connected neurons.\n",
    "\n",
    "As a series of signals pass through the network of neurons, some interesting phenomenon happens that changes internal neuron structure. Biological neural system usually comes with un-trained system, and it takes some period of learning process to function properly. In order to fully transfer this biological system to computational device, it is important to think about what actually happens when brain tries to learn about any input signals.\n",
    "\n",
    "In neuroscience, one of the main idea can be summarized as following:\n",
    "\n",
    "> When a series of neurons repeatedly fires the similar signals, some changes take place to those cells such that the electrical resistance and threshold decreases, so that it is easier for the network to pass through the same signal."
   ]
  },
  {
   "cell_type": "markdown",
   "metadata": {},
   "source": [
    "### Experiment of Pavlov\n",
    "\n",
    "![Pavlov](https://upload.wikimedia.org/wikipedia/commons/thumb/7/70/Pavlov%27s_dog_conditioning.svg/510px-Pavlov%27s_dog_conditioning.svg.png)\n",
    "\n",
    "Famous experiment of Pavlov with dog salivating is a good example of how the learning process takes place.\n",
    "\n",
    "![Pavlov Neuron Diag](./images/PavlovDiag.png)\n",
    "\n",
    "In this experiment, dog recieves two different stimulus: food and bell. By default, dog's salivation responses to the 'food' signal, but it does not react to the bell. By repeatedly pushing through both signals through the network, neural system eventually develop a 'connection' between the bell and salivating action.\n",
    "\n",
    "Putting this phenomenon in more mathematical terms, it can be understood that the 'weight' corresponds to the bell signal to the salivation was weak to stimulate the reaction at first, but it eventually becomes significant enough to overcome the resistance to the action."
   ]
  },
  {
   "cell_type": "markdown",
   "metadata": {},
   "source": [
    "### Simulation of Pavlov Experiment\n",
    "\n",
    "Lets try to mimic this experiment and try to find a method to train the signal process.\n",
    "\n",
    "There are two different input signals, and these input signals have separate probability (chance) to activate the salivation. By default, signal 'food' has much higher probability then the signal 'bell.'\n",
    "\n",
    "The action is determined by the sum of both signals. If it is 'enough' to generate the signal, the function will return true. For simplicity, lets say if the total sum overcomes the threshold of 50% chance, the reaction signal will fire.\n",
    "\n",
    "``` py\n",
    "weight_bell, weight_food = 0.1, 0.9\n",
    "def salivation(is_bell, is_food):\n",
    "    s = sum(is_bell * weight_bell, is_food * weight_food)\n",
    "    return s > 0.5\n",
    "```\n",
    "\n",
    "Above code gives simple implementation of Pavlov experiment before the training. $s$ represent the sum of total signal which heavily depend on the *is_food* variable.\n",
    "\n",
    "Now, the question becomes what is happening to the *weight_bell* and *weight_food* during the training process. Remember, repetition is the key of 'learning.' There was too much resistance from the bell signal to salivation, but this resistance was reduced over period of training time."
   ]
  },
  {
   "cell_type": "markdown",
   "metadata": {},
   "source": [
    "### More Thoughts on Training\n",
    "\n",
    "Lets try to establish the concept of learning. Teaching requires many iteration, which means the process is directional. There must be a criteria that measures and evaluate the signal processing model at each iteration. This criteria must represent the functionality of the model, which is how well does the function result a desire outcome. In this analogy, the 'training' must means increasing the 'functionality' of the model.\n",
    "\n",
    "In the above Pavlov example, the desire outcome is salivation with the bell signal.\n",
    "\n",
    "|  Food (0.9) | Bell (0.1)  | Current Outcome | Desire Outcome | Difference |\n",
    "|:-----:|:-----:|:---------------:|:--------------:|:--:|\n",
    "| 1  | 1  | 1            | 1           | 0 |\n",
    "| 1  | 0 | 0.9            | 1           | 0.1 |\n",
    "| 0 | 1  | 0.1           | 1           | 0.9 |\n",
    "| 0 | 0 | 0           | 0          | 0 |\n",
    "\n",
    "With this table, we can measure the 'error' of _current model_ by summing the square of difference between the model's prediction and desire outcome. Currently, the error of our model is 0.82. (Take square to compensate the negative result.) This error evaluates the opposite of 'functionality' of our model, therefore the process of increasing the functionality is equivalent to the decreasing of the error.\n",
    "\n",
    "Lets approach this process in more symbolic terms.\n",
    "$$\n",
    "E = \\sum_{cases} \\left(w_{\\text{food}}x_{\\text{food,case}} + w_{\\text{bell}}x_{\\text{bell,case}} - y_{\\text{case}}\\right)^2\\\\\n",
    "E = \\text{error},\\quad w = \\text{weight},\\quad x = \\text{signal},\\quad y=\\text{desire outcome}\n",
    "$$\n",
    "\n",
    "Notice, x is pre-determined in our model: table columns 1 and 2. As a result, the error function is only depend on two weight variables. Using some calculus tools, it is possible to calculate the minimum possible error for this system.\n",
    "\n",
    "Lets find a gradient of E.\n",
    "$$\n",
    "\\begin{aligned}\n",
    "    \\nabla E &= \\left( \\frac{\\partial E}{\\partial w_{\\text{food}}}, \\frac{\\partial E}{\\partial w_{\\text{bell}}}\\right) \\\\\n",
    "    \\frac{\\partial E}{\\partial w_{\\text{food}}} &= \\sum_{cases} 2\\left(w_{\\text{food}}x_{\\text{food,case}} + w_{\\text{bell}}x_{\\text{bell,case}} - y_{\\text{case}}\\right) \\left(x_{\\text{food,case}}\\right) \\\\\n",
    "    &= 2w_{\\text{food}}\\sum_{cases}x_{\\text{food,case}}^2 + 2w_{\\text{bell}}\\sum_{cases}x_{\\text{bell,case}}x_{\\text{food,case}} - 2\\sum_{cases}y_{\\text{case}}x_{\\text{food,case}} \\\\\n",
    "    &= 4w_{\\text{food}} + 2w_{\\text{bell}} - 4 \\\\\n",
    "    \\frac{\\partial E}{\\partial w_{\\text{bell}}} &= \\sum_{cases} 2\\left(w_{\\text{food}}x_{\\text{food,case}} + w_{\\text{bell}}x_{\\text{bell,case}} - y_{\\text{case}}\\right) \\left(x_{\\text{bell,case}}\\right) \\\\\n",
    "    &= 2w_{\\text{bell}}\\sum_{cases}x_{\\text{bell,case}}^2 + 2w_{\\text{food}}\\sum_{cases}x_{\\text{bell,case}}x_{\\text{food,case}} - 2\\sum_{cases}y_{\\text{case}}x_{\\text{bell,case}} \\\\\n",
    "    &= 4w_{\\text{bell}} + 2w_{\\text{food}} - 4\n",
    "\\end{aligned}\n",
    "$$\n",
    "\n",
    "Find the local minimum by setting the gradient as zero.\n",
    "\n",
    "$$\n",
    "\\nabla E = 0 \\\\\n",
    "4w_{\\text{food}} + 2w_{\\text{bell}} - 4 = 0, \\quad 2w_{\\text{food}} + 4w_{\\text{bell}} - 4 \\\\\n",
    "w_{\\text{food}} = \\frac{2}{3}, \\quad w_{\\text{bell}} = \\frac{2}{3}\n",
    "$$\n",
    "\n",
    "Best trained model is following:\n",
    "\n",
    "|  Food (2/3) | Bell (2/3)  | Current Outcome | Desire Outcome | Difference |\n",
    "|:-----:|:-----:|:---------------:|:--------------:|:--:|\n",
    "| 1  | 1  | 4/3            | 1           | -1/3 |\n",
    "| 1  | 0 | 2/3            | 1           | 1/3 |\n",
    "| 0 | 1  | 2/3           | 1           | 1/3 |\n",
    "| 0 | 0 | 0           | 0          | 0 |\n",
    "\n",
    "With this model, the error rate is 0.333. If we consider the result over 0.5 as 'True,' then we achieved the desire model."
   ]
  },
  {
   "cell_type": "markdown",
   "metadata": {},
   "source": [
    "## Perceptron - Artificial Neuron Model\n",
    "\n",
    "What features and parameters of biological must be kept? Even above example is overly simplified biological model. In reality, brain process the signals in much more complicated way than simple logical circuit. Even with this simplified model, however, it is possible to achieve a complex signal processing agent by stacking layers of neuron.\n",
    "\n",
    "To implement the perceptron, lets think about what each features of neuron does.\n",
    "1. Dendrite : multiple inputs\n",
    "2. Cell body : combine the inputs with respective weights\n",
    "3. Axon : transfer the signal\n",
    "4. Myelin sheath : resistance, whether the signal will pass\n",
    "5. Axon terminal : single output to multiple cells\n",
    "\n",
    "Strictly speaking, biological neuron can only send two different signal: blocked(0) or fired(1). If the signal is enough to overcome the threshold(resistance of Myelin sheath, __action potential__), the electric current will flow through the axon. This binary behavior looks like a Heaviside step function.\n",
    "\n",
    "![AN](https://upload.wikimedia.org/wikipedia/commons/8/8c/Perceptron_moj.png)\n",
    "\n",
    "- Neuron can be considered as a linear function, or circuit, that makes a binary classification.\n",
    "- Lets try to build the perceptron model. It takes multiple input signals, and make a decision by calculating a weighted sum.\n",
    "\n",
    "``` py\n",
    "def neuron(inputs, weights, threshold = 0, bias = 0):\n",
    "    activation = lambda t: int(t > threshold)\n",
    "    signal = (inputs * weights) + bias\n",
    "    return activation(signal)\n",
    "```"
   ]
  },
  {
   "cell_type": "code",
   "execution_count": 1,
   "metadata": {},
   "outputs": [],
   "source": [
    "# Simple Artificial Neuron Example with two input\n",
    "%matplotlib inline\n",
    "import numpy as np\n",
    "import matplotlib.pyplot as plt\n",
    "\n",
    "# Simplest neuron\n",
    "def neuron(x, w, threshold = 0, bias = 0):\n",
    "    activation = lambda t: int(t > threshold)\n",
    "    s = np.dot(x,w) + bias\n",
    "    return activation(s)"
   ]
  },
  {
   "cell_type": "code",
   "execution_count": 2,
   "metadata": {},
   "outputs": [],
   "source": [
    "# Define Network\n",
    "w = np.array([1,-1])\n",
    "model = lambda x : neuron(x, w)"
   ]
  },
  {
   "cell_type": "code",
   "execution_count": 3,
   "metadata": {},
   "outputs": [
    {
     "data": {
      "text/plain": [
       "<matplotlib.image.AxesImage at 0x10f6425f8>"
      ]
     },
     "execution_count": 3,
     "metadata": {},
     "output_type": "execute_result"
    },
    {
     "data": {
      "image/png": "[encoded data removed]",
      "text/plain": [
       "<matplotlib.figure.Figure at 0x10f5e7d30>"
      ]
     },
     "metadata": {},
     "output_type": "display_data"
    }
   ],
   "source": [
    "# Visualize (x1,x2)\n",
    "fig = plt.figure(figsize=(6,6))\n",
    "subplot = fig.add_subplot(1,1,1)\n",
    "subplot.set_xlabel('x1')\n",
    "subplot.set_ylabel('x2')\n",
    "subplot.set_ylim([-10,10])\n",
    "subplot.set_xlim([-10,10])\n",
    "\n",
    "# Draw\n",
    "field = [[ model( np.array([x1,x2]))\n",
    "          for x1 in np.linspace(-10,10,100)]\n",
    "          for x2 in np.linspace(-10,10,100)]\n",
    "subplot.imshow(field, origin='lower', extent=(-10,10,-10,10),\n",
    "               cmap=plt.cm.gray_r, alpha=0.5)"
   ]
  },
  {
   "cell_type": "markdown",
   "metadata": {},
   "source": [
    "- Notice, this neuron acts as a simple binary classifier, whether a data satisfy the condition (x1>x2).\n",
    "- It is possible to make more 'soft' classifier by changing activation function. Below is another example of using sigmoid function."
   ]
  },
  {
   "cell_type": "code",
   "execution_count": 4,
   "metadata": {},
   "outputs": [
    {
     "data": {
      "text/plain": [
       "<matplotlib.image.AxesImage at 0x10f7fd1d0>"
      ]
     },
     "execution_count": 4,
     "metadata": {},
     "output_type": "execute_result"
    },
    {
     "data": {
      "image/png": "[encoded data removed]",
      "text/plain": [
       "<matplotlib.figure.Figure at 0x10f5eb358>"
      ]
     },
     "metadata": {},
     "output_type": "display_data"
    }
   ],
   "source": [
    "# Neuron with Sigmoid\n",
    "def neuron_sigmoid(x, w, threshold = 0, bias = 0):\n",
    "    activation = lambda t: 1/(1+np.exp(-t))\n",
    "    s = np.dot(x,w) + bias\n",
    "    return activation(s)\n",
    "\n",
    "# Define Network\n",
    "w = np.array([1,-1])\n",
    "model = lambda x : neuron_sigmoid(x, w)\n",
    "\n",
    "# Visualize (x1,x2)\n",
    "fig = plt.figure(figsize=(6,6))\n",
    "subplot = fig.add_subplot(1,1,1)\n",
    "subplot.set_xlabel('x1')\n",
    "subplot.set_ylabel('x2')\n",
    "subplot.set_ylim([-10,10])\n",
    "subplot.set_xlim([-10,10])\n",
    "\n",
    "# Draw\n",
    "field = [[ model( np.array([x1,x2]))\n",
    "          for x1 in np.linspace(-10,10,100)]\n",
    "          for x2 in np.linspace(-10,10,100)]\n",
    "subplot.imshow(field, origin='lower', extent=(-10,10,-10,10),\n",
    "               cmap=plt.cm.gray_r, alpha=0.5)"
   ]
  },
  {
   "cell_type": "markdown",
   "metadata": {},
   "source": [
    "## 2-Layered Artificial Neural Network\n",
    "\n",
    "![2 Layered ANN](./images/doublelayerANN_sketch.png)"
   ]
  },
  {
   "cell_type": "code",
   "execution_count": 7,
   "metadata": {},
   "outputs": [],
   "source": [
    "# Define Network\n",
    "w1 = np.array([1,-1])\n",
    "w2 = np.array([1,2])\n",
    "w3 = np.array([-1,0.8])\n",
    "\n",
    "def double_layer_model(x):\n",
    "    hidden1 = neuron_sigmoid(x,w1, bias=0.3)\n",
    "    hidden2 = neuron_sigmoid(x,w2, bias=-0.3)\n",
    "    return neuron_sigmoid(np.array([hidden1, hidden2]), w3)"
   ]
  },
  {
   "cell_type": "code",
   "execution_count": 8,
   "metadata": {},
   "outputs": [
    {
     "data": {
      "text/plain": [
       "<matplotlib.image.AxesImage at 0x10f9b3be0>"
      ]
     },
     "execution_count": 8,
     "metadata": {},
     "output_type": "execute_result"
    },
    {
     "data": {
      "image/png": "[encoded data removed]",
      "text/plain": [
       "<matplotlib.figure.Figure at 0x10f806470>"
      ]
     },
     "metadata": {},
     "output_type": "display_data"
    }
   ],
   "source": [
    "# Visualize (x1,x2)\n",
    "fig = plt.figure(figsize=(6,6))\n",
    "subplot = fig.add_subplot(1,1,1)\n",
    "subplot.set_xlabel('x1')\n",
    "subplot.set_ylabel('x2')\n",
    "subplot.set_ylim([-10,10])\n",
    "subplot.set_xlim([-10,10])\n",
    "\n",
    "# Draw\n",
    "field = [[ double_layer_model( np.array([x1,x2]))\n",
    "          for x1 in np.linspace(-10,10,100)]\n",
    "          for x2 in np.linspace(-10,10,100)]\n",
    "subplot.imshow(field, origin='lower', extent=(-10,10,-10,10),\n",
    "               cmap=plt.cm.gray_r, alpha=0.5)"
   ]
  }
 ],
 "metadata": {
  "kernelspec": {
   "display_name": "Python 3",
   "language": "python",
   "name": "python3"
  },
  "language_info": {
   "codemirror_mode": {
    "name": "ipython",
    "version": 3
   },
   "file_extension": ".py",
   "mimetype": "text/x-python",
   "name": "python",
   "nbconvert_exporter": "python",
   "pygments_lexer": "ipython3",
   "version": "3.6.3"
  }
 },
 "nbformat": 4,
 "nbformat_minor": 2
}
