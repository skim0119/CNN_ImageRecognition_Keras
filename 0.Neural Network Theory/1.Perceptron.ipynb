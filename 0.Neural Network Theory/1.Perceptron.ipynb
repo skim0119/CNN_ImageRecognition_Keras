{
 "cells": [
  {
   "cell_type": "markdown",
   "metadata": {},
   "source": [
    "# Perceptron : Binary Classifier\n",
    "\n",
    "- Perceptron is inspired by the biological neuron cell of nerve system, and the idea is explored over many classification problems.\n",
    "\n",
    "![Neuron](https://upload.wikimedia.org/wikipedia/commons/b/bd/Neuron.jpg)"
   ]
  },
  {
   "cell_type": "markdown",
   "metadata": {},
   "source": [
    "The basic operation of the neuron is following:\n",
    "1. Recieve the electrical signal at dendrites.\n",
    "2. Signals gather in the cell body, create an electrical potential.\n",
    "3. If the potential is enough to overcome the myelin sheath's potential, signal pass through.\n",
    "4. Signal exit through axon terminal, and pass to the next connected neurons."
   ]
  },
  {
   "cell_type": "markdown",
   "metadata": {},
   "source": [
    "## Artificial Neuron Model\n",
    "\n",
    "![AN](https://upload.wikimedia.org/wikipedia/commons/8/8c/Perceptron_moj.png)"
   ]
  },
  {
   "cell_type": "markdown",
   "metadata": {},
   "source": [
    "- This artificial neuron mimics an operation of biological neuron. It takes multiple input signals and calculate a weighted sum. If the total sum is enough to overcome the threshold, neuron fires output signal."
   ]
  },
  {
   "cell_type": "code",
   "execution_count": 1,
   "metadata": {},
   "outputs": [],
   "source": [
    "# Simple Artificial Neuron Example with two input\n",
    "import numpy as np\n",
    "import matplotlib.pyplot as plt\n",
    "\n",
    "# Simplest neuron\n",
    "def neuron(x, w, threshold = 0, bias = 0):\n",
    "    activation = lambda t: int(t > threshold)\n",
    "    s = np.dot(x,w) + bias\n",
    "    return activation(s)\n",
    "\n",
    "# 2 input weights\n",
    "w = np.array([1,-1])"
   ]
  },
  {
   "cell_type": "code",
   "execution_count": 2,
   "metadata": {},
   "outputs": [
    {
     "data": {
      "text/plain": [
       "<matplotlib.image.AxesImage at 0x10f962ac8>"
      ]
     },
     "execution_count": 2,
     "metadata": {},
     "output_type": "execute_result"
    },
    {
     "data": {
      "image/png": "[encoded data removed]",
      "text/plain": [
       "<matplotlib.figure.Figure at 0x10f90c780>"
      ]
     },
     "metadata": {},
     "output_type": "display_data"
    }
   ],
   "source": [
    "# Visualize (x1,x2)\n",
    "fig = plt.figure(figsize=(6,6))\n",
    "subplot = fig.add_subplot(1,1,1)\n",
    "subplot.set_xlabel('x1')\n",
    "subplot.set_ylabel('x2')\n",
    "subplot.set_ylim([-10,10])\n",
    "subplot.set_xlim([-10,10])\n",
    "\n",
    "# Draw\n",
    "field = [[neuron(np.array([x1,x2]), w)\n",
    "          for x1 in np.linspace(-10,10,100)]\n",
    "          for x2 in np.linspace(-10,10,100)]\n",
    "subplot.imshow(field, origin='lower', extent=(-10,10,-10,10),\n",
    "               cmap=plt.cm.gray_r, alpha=0.5)"
   ]
  }
 ],
 "metadata": {
  "kernelspec": {
   "display_name": "Python 3",
   "language": "python",
   "name": "python3"
  },
  "language_info": {
   "codemirror_mode": {
    "name": "ipython",
    "version": 3
   },
   "file_extension": ".py",
   "mimetype": "text/x-python",
   "name": "python",
   "nbconvert_exporter": "python",
   "pygments_lexer": "ipython3",
   "version": "3.6.3"
  }
 },
 "nbformat": 4,
 "nbformat_minor": 2
}
