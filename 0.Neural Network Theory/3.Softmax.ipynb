{
 "cells": [
  {
   "cell_type": "markdown",
   "metadata": {},
   "source": [
    "# Softmax Function - Multinomial Classification\n",
    "\n",
    "Linear regression model can be understood as a binary classification model. In general case, it divides a dataset plane into two sections, each sections representing a class. If there are more than two classes to distinguish, we can stack multiple sigmoid function. Mathematically, this idea can be expressed in single softmax function.\n",
    "\n",
    "## Revisite Sigmoid Function\n",
    "Sigmoid function has following form:\n",
    "\n",
    "$$\n",
    "\\sigma(x) = \\frac{x}{1+e^{-x}}\n",
    "$$"
   ]
  },
  {
   "cell_type": "code",
   "execution_count": 9,
   "metadata": {},
   "outputs": [
    {
     "data": {
      "image/png": "[encoded data removed]",
      "text/plain": [
       "<matplotlib.figure.Figure at 0x10fd256a0>"
      ]
     },
     "metadata": {},
     "output_type": "display_data"
    }
   ],
   "source": [
    "import numpy as np\n",
    "import matplotlib.pyplot as plt\n",
    "sigmoid = lambda x: 1 / (1 + np.exp(-x))\n",
    "\n",
    "fig = plt.figure(figsize=(5,3))\n",
    "linex=np.linspace(-10,10,100)\n",
    "plt.plot(linex, sigmoid(linex))\n",
    "plt.xlabel('x')\n",
    "plt.ylabel('sigmoid')\n",
    "plt.grid('on')"
   ]
  },
  {
   "cell_type": "markdown",
   "metadata": {},
   "source": [
    "Sigmoid function essentially squeeze the range from $-\\infty$ to $\\infty$ to the range between 0 and 1. In binary classification, x is the distance from the line(curve) f(x), and the result gives probability of the data belong to the category."
   ]
  },
  {
   "cell_type": "markdown",
   "metadata": {},
   "source": [
    "## Sigmoid Function\n",
    "\n",
    "Softmax function has following form:\n",
    "- wikipedia\n",
    "\n",
    "$$\n",
    "{\\displaystyle \\sigma :\\mathbb {R} ^{K}\\to [0,1]^{K}} \\\\\\\n",
    "{\\displaystyle \\sigma (\\mathbf {z} )_{j}={\\frac {e^{z_{j}}}{\\sum _{k=1}^{K}e^{z_{k}}}}} \\quad\\text{for}\\quad j = 1, …, K.\n",
    "$$\n",
    "\n",
    "Notice, sum of the softmax of individual candidate is 1. The input z is a vector, and the result essentially remap, just like sigmoid, every elements to the range between 0 and 1."
   ]
  },
  {
   "cell_type": "code",
   "execution_count": 15,
   "metadata": {},
   "outputs": [
    {
     "name": "stdout",
     "output_type": "stream",
     "text": [
      "[0.0320586  0.08714432 0.23688282 0.64391426]\n",
      "1.0\n"
     ]
    }
   ],
   "source": [
    "# define softmax:\n",
    "def softmax(x):\n",
    "    \"\"\"Compute softmax values for each sets of scores in x.\"\"\"\n",
    "    e_x = np.exp(x - np.max(x))\n",
    "    return e_x / e_x.sum(axis=0)\n",
    "\n",
    "x = np.array([3,4,5,6])\n",
    "print(softmax(x))\n",
    "print(sum(softmax(x)))"
   ]
  }
 ],
 "metadata": {
  "kernelspec": {
   "display_name": "Python 3",
   "language": "python",
   "name": "python3"
  },
  "language_info": {
   "codemirror_mode": {
    "name": "ipython",
    "version": 3
   },
   "file_extension": ".py",
   "mimetype": "text/x-python",
   "name": "python",
   "nbconvert_exporter": "python",
   "pygments_lexer": "ipython3",
   "version": "3.6.3"
  }
 },
 "nbformat": 4,
 "nbformat_minor": 2
}
