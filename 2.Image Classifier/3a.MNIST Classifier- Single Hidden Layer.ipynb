{
 "cells": [
  {
   "cell_type": "markdown",
   "metadata": {},
   "source": [
    "# MNIST Single Hidden Layer Classifier\n",
    "- Lets try using exactly same algorithm to recognize handwriting dataset"
   ]
  },
  {
   "cell_type": "code",
   "execution_count": 10,
   "metadata": {},
   "outputs": [],
   "source": [
    "# Settings\n",
    "num_units = 1024"
   ]
  },
  {
   "cell_type": "markdown",
   "metadata": {},
   "source": [
    "### Prepare Dataset"
   ]
  },
  {
   "cell_type": "code",
   "execution_count": 11,
   "metadata": {},
   "outputs": [],
   "source": [
    "from keras.datasets import mnist\n",
    "(x_train, y_train), (x_test, y_test) = mnist.load_data()\n",
    "\n",
    "x_train = x_train.reshape(60000, 784)\n",
    "x_test = x_test.reshape(10000, 784)\n",
    "x_train = x_train.astype('float32')\n",
    "x_test = x_test.astype('float32')\n",
    "x_train /= 255\n",
    "x_test /= 255"
   ]
  },
  {
   "cell_type": "code",
   "execution_count": 12,
   "metadata": {},
   "outputs": [],
   "source": [
    "y_train = keras.utils.to_categorical(y_train, 10)\n",
    "y_test = keras.utils.to_categorical(y_test, 10)"
   ]
  },
  {
   "cell_type": "markdown",
   "metadata": {},
   "source": [
    "## Model"
   ]
  },
  {
   "cell_type": "code",
   "execution_count": 13,
   "metadata": {},
   "outputs": [],
   "source": [
    "import keras\n",
    "from keras.models import Sequential\n",
    "from keras.layers import Dense\n",
    "from keras.utils import plot_model"
   ]
  },
  {
   "cell_type": "code",
   "execution_count": 14,
   "metadata": {},
   "outputs": [],
   "source": [
    "# Build Layers\n",
    "model = Sequential()\n",
    "model.add(Dense(num_units, input_dim = 784,\n",
    "               activation = 'relu',\n",
    "               kernel_initializer='truncated_normal',\n",
    "               bias_initializer='zeros'))\n",
    "model.add(Dense(10,\n",
    "                activation = 'softmax',\n",
    "                kernel_initializer = 'zeros',\n",
    "                bias_initializer = 'zeros'))"
   ]
  },
  {
   "cell_type": "code",
   "execution_count": 15,
   "metadata": {},
   "outputs": [],
   "source": [
    "# Build Compiler\n",
    "model.compile(optimizer = 'Adam',\n",
    "              loss = 'categorical_crossentropy',\n",
    "              metrics=['accuracy'])"
   ]
  },
  {
   "cell_type": "code",
   "execution_count": 16,
   "metadata": {},
   "outputs": [
    {
     "data": {
      "text/plain": [
       "[{'class_name': 'Dense',\n",
       "  'config': {'activation': 'relu',\n",
       "   'activity_regularizer': None,\n",
       "   'batch_input_shape': (None, 784),\n",
       "   'bias_constraint': None,\n",
       "   'bias_initializer': {'class_name': 'Zeros', 'config': {}},\n",
       "   'bias_regularizer': None,\n",
       "   'dtype': 'float32',\n",
       "   'kernel_constraint': None,\n",
       "   'kernel_initializer': {'class_name': 'TruncatedNormal',\n",
       "    'config': {'mean': 0.0, 'seed': None, 'stddev': 0.05}},\n",
       "   'kernel_regularizer': None,\n",
       "   'name': 'dense_3',\n",
       "   'trainable': True,\n",
       "   'units': 1024,\n",
       "   'use_bias': True}},\n",
       " {'class_name': 'Dense',\n",
       "  'config': {'activation': 'softmax',\n",
       "   'activity_regularizer': None,\n",
       "   'bias_constraint': None,\n",
       "   'bias_initializer': {'class_name': 'Zeros', 'config': {}},\n",
       "   'bias_regularizer': None,\n",
       "   'kernel_constraint': None,\n",
       "   'kernel_initializer': {'class_name': 'Zeros', 'config': {}},\n",
       "   'kernel_regularizer': None,\n",
       "   'name': 'dense_4',\n",
       "   'trainable': True,\n",
       "   'units': 10,\n",
       "   'use_bias': True}}]"
      ]
     },
     "execution_count": 16,
     "metadata": {},
     "output_type": "execute_result"
    }
   ],
   "source": [
    "# Check Config\n",
    "model.get_config()"
   ]
  },
  {
   "cell_type": "markdown",
   "metadata": {},
   "source": [
    "## Training"
   ]
  },
  {
   "cell_type": "code",
   "execution_count": 19,
   "metadata": {},
   "outputs": [
    {
     "name": "stdout",
     "output_type": "stream",
     "text": [
      "Epoch 1/10\n",
      "60000/60000 [==============================] - 18s 305us/step - loss: 0.0239 - acc: 0.9930\n",
      "Epoch 2/10\n",
      "60000/60000 [==============================] - 18s 304us/step - loss: 0.0186 - acc: 0.9944\n",
      "Epoch 3/10\n",
      "60000/60000 [==============================] - 18s 305us/step - loss: 0.0123 - acc: 0.9965\n",
      "Epoch 4/10\n",
      "60000/60000 [==============================] - 18s 305us/step - loss: 0.0106 - acc: 0.9970\n",
      "Epoch 5/10\n",
      "60000/60000 [==============================] - 18s 304us/step - loss: 0.0086 - acc: 0.9972\n",
      "Epoch 6/10\n",
      "60000/60000 [==============================] - 18s 306us/step - loss: 0.0084 - acc: 0.9975\n",
      "Epoch 7/10\n",
      "60000/60000 [==============================] - 18s 302us/step - loss: 0.0081 - acc: 0.9977\n",
      "Epoch 8/10\n",
      "60000/60000 [==============================] - 18s 303us/step - loss: 0.0087 - acc: 0.9971\n",
      "Epoch 9/10\n",
      "60000/60000 [==============================] - 18s 304us/step - loss: 0.0042 - acc: 0.9989\n",
      "Epoch 10/10\n",
      "60000/60000 [==============================] - 18s 303us/step - loss: 0.0033 - acc: 0.9991\n"
     ]
    },
    {
     "data": {
      "text/plain": [
       "<keras.callbacks.History at 0x13af1ee48>"
      ]
     },
     "execution_count": 19,
     "metadata": {},
     "output_type": "execute_result"
    }
   ],
   "source": [
    "model.fit(x_train, y_train, batch_size=100, epochs=10, verbose=1)"
   ]
  },
  {
   "cell_type": "code",
   "execution_count": 20,
   "metadata": {},
   "outputs": [
    {
     "name": "stdout",
     "output_type": "stream",
     "text": [
      "loss: 0.07543504308158122 accuracy: 0.9821\n"
     ]
    }
   ],
   "source": [
    "result = model.evaluate(x_test, y_test, verbose=0)\n",
    "print('loss:', result[0], 'accuracy:', result[1])"
   ]
  }
 ],
 "metadata": {
  "kernelspec": {
   "display_name": "Python 3",
   "language": "python",
   "name": "python3"
  },
  "language_info": {
   "codemirror_mode": {
    "name": "ipython",
    "version": 3
   },
   "file_extension": ".py",
   "mimetype": "text/x-python",
   "name": "python",
   "nbconvert_exporter": "python",
   "pygments_lexer": "ipython3",
   "version": "3.6.3"
  }
 },
 "nbformat": 4,
 "nbformat_minor": 2
}
