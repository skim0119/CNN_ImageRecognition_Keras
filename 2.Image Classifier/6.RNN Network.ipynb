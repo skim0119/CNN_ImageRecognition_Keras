{
 "cells": [
  {
   "cell_type": "markdown",
   "metadata": {},
   "source": [
    "# LSTM"
   ]
  },
  {
   "cell_type": "code",
   "execution_count": 3,
   "metadata": {},
   "outputs": [],
   "source": [
    "import matplotlib.pyplot as plt\n",
    "import numpy as np\n",
    "\n",
    "import pandas as pd\n",
    "import os"
   ]
  },
  {
   "cell_type": "markdown",
   "metadata": {},
   "source": [
    "### LSTM for Keras\n",
    "- https://github.com/fchollet/keras/blob/master/examples/imdb_lstm.py   \n",
    "- https://keras.io/datasets/"
   ]
  },
  {
   "cell_type": "code",
   "execution_count": 3,
   "metadata": {},
   "outputs": [],
   "source": [
    "import keras\n",
    "from keras.models import Sequential\n",
    "from keras.preprocessing import sequence\n",
    "from keras.datasets import imdb\n",
    "from keras.layers import LSTM, Embedding, Dense"
   ]
  },
  {
   "cell_type": "code",
   "execution_count": 4,
   "metadata": {},
   "outputs": [],
   "source": [
    "(x_train, y_train), (x_test, y_test) = imdb.load_data(num_words=20000)\n",
    "x_train = sequence.pad_sequences(x_train, maxlen=80)\n",
    "x_test = sequence.pad_sequences(x_test, maxlen=80)"
   ]
  },
  {
   "cell_type": "code",
   "execution_count": 5,
   "metadata": {},
   "outputs": [],
   "source": [
    "model = Sequential()\n",
    "model.add(Embedding(20000, 128, input_length=80))\n",
    "model.add(LSTM(128, dropout=0.2, recurrent_dropout=0.2))\n",
    "model.add(Dense(1, activation='sigmoid'))\n",
    "\n",
    "model.compile(loss='binary_crossentropy',\n",
    "                     optimizer='adam', metrics=['accuracy'])"
   ]
  },
  {
   "cell_type": "markdown",
   "metadata": {},
   "source": [
    "## Training"
   ]
  },
  {
   "cell_type": "code",
   "execution_count": 6,
   "metadata": {},
   "outputs": [
    {
     "name": "stdout",
     "output_type": "stream",
     "text": [
      "Train on 25000 samples, validate on 25000 samples\n",
      "Epoch 1/10\n",
      "25000/25000 [==============================] - 79s 3ms/step - loss: 0.4601 - acc: 0.7805 - val_loss: 0.3879 - val_acc: 0.8290\n",
      "Epoch 2/10\n",
      "25000/25000 [==============================] - 78s 3ms/step - loss: 0.3017 - acc: 0.8781 - val_loss: 0.3753 - val_acc: 0.8349\n",
      "Epoch 3/10\n",
      "25000/25000 [==============================] - 77s 3ms/step - loss: 0.2244 - acc: 0.9126 - val_loss: 0.4152 - val_acc: 0.8301\n",
      "Epoch 4/10\n",
      "25000/25000 [==============================] - 79s 3ms/step - loss: 0.1583 - acc: 0.9402 - val_loss: 0.4746 - val_acc: 0.8298\n",
      "Epoch 5/10\n",
      "25000/25000 [==============================] - 79s 3ms/step - loss: 0.1074 - acc: 0.9599 - val_loss: 0.6560 - val_acc: 0.8102\n",
      "Epoch 6/10\n",
      "25000/25000 [==============================] - 80s 3ms/step - loss: 0.0781 - acc: 0.9727 - val_loss: 0.7458 - val_acc: 0.8194\n",
      "Epoch 7/10\n",
      "25000/25000 [==============================] - 82s 3ms/step - loss: 0.0574 - acc: 0.9807 - val_loss: 0.7935 - val_acc: 0.8176\n",
      "Epoch 8/10\n",
      "25000/25000 [==============================] - 80s 3ms/step - loss: 0.0484 - acc: 0.9840 - val_loss: 0.7528 - val_acc: 0.8079\n",
      "Epoch 9/10\n",
      "25000/25000 [==============================] - 80s 3ms/step - loss: 0.0314 - acc: 0.9894 - val_loss: 0.9139 - val_acc: 0.8137\n",
      "Epoch 10/10\n",
      "25000/25000 [==============================] - 80s 3ms/step - loss: 0.0281 - acc: 0.9910 - val_loss: 0.9743 - val_acc: 0.8158\n",
      "25000/25000 [==============================] - 12s 495us/step\n",
      "accuracy=0.81576, loss=0.9742698663383722\n"
     ]
    }
   ],
   "source": [
    "model.fit(x_train, y_train, batch_size=32, epochs=10, validation_data=(x_test, y_test))\n",
    "\n",
    "score, acc = model.evaluate(x_test, y_test,batch_size=32)\n",
    "print('accuracy={0}, loss={1}'.format(acc, score))"
   ]
  }
 ],
 "metadata": {
  "kernelspec": {
   "display_name": "Python 3",
   "language": "python",
   "name": "python3"
  },
  "language_info": {
   "codemirror_mode": {
    "name": "ipython",
    "version": 3
   },
   "file_extension": ".py",
   "mimetype": "text/x-python",
   "name": "python",
   "nbconvert_exporter": "python",
   "pygments_lexer": "ipython3",
   "version": "3.6.4"
  }
 },
 "nbformat": 4,
 "nbformat_minor": 2
}
