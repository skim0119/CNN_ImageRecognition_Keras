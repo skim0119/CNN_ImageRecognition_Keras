{
 "cells": [
  {
   "cell_type": "markdown",
   "metadata": {},
   "source": [
    "# Gradient Descent Implementation\n",
    "- This note includes implementation of gradient descent method using Python 3 __without an assist of TensorFlow or Keras__.\n",
    "- Numpy python module is only tool for matrix calculation.\n",
    "- Simple Regression Model"
   ]
  },
  {
   "cell_type": "markdown",
   "metadata": {},
   "source": [
    "## Import Libraries/Packages"
   ]
  },
  {
   "cell_type": "code",
   "execution_count": 3,
   "metadata": {},
   "outputs": [],
   "source": [
    "import numpy as np\n",
    "import math\n",
    "\n",
    "import matplotlib.pyplot as plt"
   ]
  },
  {
   "cell_type": "markdown",
   "metadata": {},
   "source": [
    "## Prepare Polynomial Data"
   ]
  },
  {
   "cell_type": "code",
   "execution_count": 4,
   "metadata": {},
   "outputs": [
    {
     "data": {
      "text/plain": [
       "[<matplotlib.lines.Line2D at 0x10f77ada0>]"
      ]
     },
     "execution_count": 4,
     "metadata": {},
     "output_type": "execute_result"
    },
    {
     "data": {
      "image/png": "[encoded data removed]",
      "text/plain": [
       "<matplotlib.figure.Figure at 0x10f720978>"
      ]
     },
     "metadata": {},
     "output_type": "display_data"
    }
   ],
   "source": [
    "polydegree = 4\n",
    "poly_roots = np.append(np.random.random(polydegree-2)*9, [0,10])\n",
    "poly_coef = np.poly(poly_roots)\n",
    "\n",
    "x_ax = np.linspace(0,10,1000)\n",
    "poly_line = np.polyval(poly_coef,x_ax)\n",
    "modifier = 10 / (max(poly_line)-min(poly_line))\n",
    "\n",
    "poly_coef *= modifier # rescale y-axis to fit in 10\n",
    "poly_line = np.polyval(poly_coef,x_ax)\n",
    "\n",
    "# Generate set of points as a dataset\n",
    "num_data = 10 # number of data\n",
    "x_val, gap = np.linspace(0,10, num=num_data+1, endpoint=False, retstep=True)\n",
    "x_val = x_val[1:] + gap * (np.random.random(num_data) - 0.5 ) # add jitter\n",
    "y_val = np.polyval(poly_coef, x_val)\n",
    "\n",
    "# Visualize\n",
    "fig = plt.figure()\n",
    "subplot = fig.add_subplot(1,1,1)\n",
    "subplot.set_xlim(0,10)\n",
    "subplot.set_ylim(min(poly_line)-1, max(poly_line)+1)\n",
    "subplot.grid('on')\n",
    "subplot.scatter(x_val, y_val)\n",
    "subplot.plot(x_ax, poly_line, 'r')"
   ]
  },
  {
   "cell_type": "markdown",
   "metadata": {},
   "source": [
    "## Polynomial Regression Model\n",
    "\n",
    "- The vector w act as a regression model.\n",
    "- Goal is move $w_0$, which is zero vector, to approach the coefficient of polynomial.\n",
    "\n",
    "$$\n",
    "y_n = (n^0, n^1, n^2, n^3, n^4)\\cdot\n",
    "\\begin{pmatrix}\n",
    "w_0 \\\\ w_1 \\\\ w_2 \\\\ w_3 \\\\ w_4\n",
    "\\end{pmatrix}\n",
    "= \\sum_{m=0}^{4}w_mn^m \\\\\n",
    "\\textbf{y} = \\textbf{Xw} \\\\\n",
    "\\textbf{X} =\n",
    "\\begin{pmatrix}\n",
    "x_0^0 & x_0^1 & x_0^2 & x_0^3 & x_0^4 \\\\\n",
    "x_1^0 & x_1^1 & x_1^2 & x_1^3 & x_1^4 \\\\\n",
    "x_2^0 & x_2^1 & x_2^2 & x_2^3 & x_2^4 \\\\\n",
    "\\vdots\\\\ \n",
    "x_n^0 & x_n^1 & x_n^2 & x_n^3 & x_n^4 \\\\\n",
    "\\end{pmatrix}\n",
    ", \\quad\n",
    "\\textbf{w} =\n",
    "\\begin{pmatrix}\n",
    "w_0 \\\\ w_1 \\\\ w_2 \\\\ w_3 \\\\ w_4\n",
    "\\end{pmatrix}\n",
    "$$"
   ]
  },
  {
   "cell_type": "code",
   "execution_count": 5,
   "metadata": {},
   "outputs": [],
   "source": [
    "train_x = np.zeros([num_data,polydegree+1])\n",
    "train_t = y_val.reshape(num_data, 1)\n",
    "\n",
    "for row, x_data in enumerate(x_val):\n",
    "    for col in range(0,polydegree+1): # Total 4 unknown variable\n",
    "        train_x[row][col] = x_data**col"
   ]
  },
  {
   "cell_type": "markdown",
   "metadata": {},
   "source": [
    "## Gradient Descent Method\n",
    "- Loss Function:\n",
    "$$\n",
    "E = \\frac{1}{2} \\sum_{n=1}^{12}(y_n - t_n)^2 \\\\\n",
    "E(\\textbf{w}) = \\frac{1}{2} \\sum_{n=1}^{12}\\left(\\sum_{m=0}^{4}w_mn^m - t_n\\right)^2 \n",
    "$$\n",
    "One of the key criteria of local minimum of function is the gradient $\\frac{\\partial E}{\\partial w_m} = 0$.  \n",
    "The gradient of function represent the direction where the maximum slope along the surface is.  \n",
    "Gradient descent method suggest the discrete approach to local minima by moving in the opposite gradient direction from any point along the surface.  \n",
    "$$\n",
    "\\textbf{w}^{\\text{new}}=\\textbf{w}-\\epsilon\\nabla E\n",
    "$$\n",
    "- $\\epsilon$ represent the rate of learning"
   ]
  },
  {
   "cell_type": "code",
   "execution_count": 6,
   "metadata": {},
   "outputs": [],
   "source": [
    "w = np.zeros([polydegree+1, 1])"
   ]
  },
  {
   "cell_type": "code",
   "execution_count": 339,
   "metadata": {
    "scrolled": false
   },
   "outputs": [],
   "source": [
    "for train_cycle in range(10000): # 10 cycle\n",
    "    #print('w: ', w.T)\n",
    "    y = np.matmul(train_x, w).reshape(num_data,1)\n",
    "    epsilon = y - train_t\n",
    "    delE = np.matmul(train_x.T, epsilon) # gradient\n",
    "    alpha = np.geomspace(0.001, 0.000000001, polydegree+1).reshape(5,1) # learning rate\n",
    "    w -= np.multiply(alpha,delE)# update weight\n",
    "    error = np.matmul(epsilon.T, epsilon)[0][0] # error at this moment"
   ]
  },
  {
   "cell_type": "code",
   "execution_count": 340,
   "metadata": {
    "scrolled": true
   },
   "outputs": [
    {
     "name": "stdout",
     "output_type": "stream",
     "text": [
      "[ 0.0214427  -0.4049428   1.96216578 -0.57007982  0.        ]\n",
      "[ 0.00372526 -0.06824654 -0.04180495  3.25828527 -1.08786744]\n"
     ]
    },
    {
     "data": {
      "text/plain": [
       "[<matplotlib.lines.Line2D at 0x11a5198d0>]"
      ]
     },
     "execution_count": 340,
     "metadata": {},
     "output_type": "execute_result"
    },
    {
     "data": {
      "image/png": "[encoded data removed]",
      "text/plain": [
       "<matplotlib.figure.Figure at 0x11a495a90>"
      ]
     },
     "metadata": {},
     "output_type": "display_data"
    }
   ],
   "source": [
    "predict_line = np.polyval(w.T[0][::-1],x_ax)\n",
    "print(poly_coef)\n",
    "print(w.T[0][::-1])\n",
    "# Visualize\n",
    "fig = plt.figure()\n",
    "subplot = fig.add_subplot(1,1,1)\n",
    "subplot.set_xlim(0,10)\n",
    "subplot.set_ylim(min(poly_line)-1, max(poly_line)+1)\n",
    "subplot.grid('on')\n",
    "subplot.scatter(x_val, y_val)\n",
    "subplot.plot(x_ax, poly_line, 'r')\n",
    "subplot.plot(x_ax, predict_line, 'b')"
   ]
  },
  {
   "cell_type": "markdown",
   "metadata": {},
   "source": [
    "## Adam Optimizer\n",
    "\n",
    "- https://arxiv.org/pdf/1412.6980.pdf\n",
    "\n",
    "> __Algorithm 1__: Adam, our proposed algorithm for stochastic optimization. See section 2 for details, and for a slightly more efficient (but less clear) order of computation. $g_t^2$ indicates the elementwise square $g_t \\otimes g_t$. Good default settings for the tested machine learning problems are α = 0.001, β1 = 0.9, β2 = 0.999 and $\\epsilon = 10^−8$. All operations on vectors are element-wise. With $β_1^t$ and $β_2^t$ we denote β1 and β2 to the power t.  \n",
    "__Require__: α               : Stepsize  \n",
    "__Require__: β1, β2 ∈ [0, 1) : Exponential decay rates for the moment estimates  \n",
    "__Require__: f(θ)            : Stochastic objective function with parameters θ  \n",
    "__Require__: θ0              : Initial parameter vector\n",
    "```\n",
    "m0 ← 0 (Initialize 1st moment vector)  \n",
    "v0 ← 0 (Initialize 2nd moment vector)  \n",
    "t ← 0 (Initialize timestep)  \n",
    "while θt not converged do  \n",
    "    t ← t + 1  \n",
    "    g_t ← ∇_θ f_t(θ_t−1) (Get gradients w.r.t. stochastic objective at timestep t)  \n",
    "    m_t ← β_1 · m_t−1 + (1 − β_1) · g_t (Update biased first moment estimate)  \n",
    "    v_t ← β_2 · v_t−1 + (1 − β_2) · (g_t ^ 2) (Update biased second raw moment estimate)  \n",
    "    mb_t ← m_t/(1 − (β_1 ^ t) ) (Compute bias-corrected first moment estimate)  \n",
    "    vb_t ← v_t/(1 − (β_2 ^t) ) (Compute bias-corrected second raw moment estimate)  \n",
    "    θ_t ← θ_(t−1) − α · mb_t/(sqrt(vb_t) + e) (Update parameters)  \n",
    "end while  \n",
    "return θt (Resulting parameters)\n",
    "```"
   ]
  },
  {
   "cell_type": "code",
   "execution_count": 31,
   "metadata": {},
   "outputs": [],
   "source": [
    "w = np.zeros([polydegree+1, 1])"
   ]
  },
  {
   "cell_type": "code",
   "execution_count": 32,
   "metadata": {
    "scrolled": false
   },
   "outputs": [],
   "source": [
    "alpha, beta1, beta2, eps = 0.001, 0.9, 0.999, 10**(-8)\n",
    "m0 = 0\n",
    "v0 = 0\n",
    "t = 0\n",
    "errorProgress = []\n",
    "for train_cycle in range(20000):\n",
    "    t += 1\n",
    "    #print('w: ', w.T)\n",
    "    y = np.matmul(train_x, w).reshape(num_data,1)\n",
    "    epsilon = y - train_t\n",
    "    grad = np.matmul(train_x.T, epsilon) # gradient\n",
    "    m = beta1*m0 + (1-beta1)*grad\n",
    "    m0 = m\n",
    "    v = beta2*v0 + (1-beta2)*np.square(grad)\n",
    "    v0 = v\n",
    "    mb = m/(1 - (beta1 ** t) )\n",
    "    vb = v/(1 - (beta2 ** t) )\n",
    "    w -= alpha * mb/(np.sqrt(vb) + eps)\n",
    "    \n",
    "    error = np.matmul(epsilon.T, epsilon)[0][0] # error at this moment\n",
    "    errorProgress.append(error)"
   ]
  },
  {
   "cell_type": "code",
   "execution_count": 33,
   "metadata": {
    "scrolled": false
   },
   "outputs": [
    {
     "name": "stdout",
     "output_type": "stream",
     "text": [
      "[ 0.03698526 -0.68920081  3.73693376 -5.43451855  0.        ]\n",
      "[ 0.01830527 -0.31224708  1.22859434  0.57013949 -3.57302567]\n"
     ]
    },
    {
     "data": {
      "text/plain": [
       "[<matplotlib.lines.Line2D at 0x11005beb8>]"
      ]
     },
     "execution_count": 33,
     "metadata": {},
     "output_type": "execute_result"
    },
    {
     "data": {
      "image/png": "[encoded data removed]",
      "text/plain": [
       "<matplotlib.figure.Figure at 0x10fe27400>"
      ]
     },
     "metadata": {},
     "output_type": "display_data"
    },
    {
     "data": {
      "image/png": "[encoded data removed]",
      "text/plain": [
       "<matplotlib.figure.Figure at 0x10fe28978>"
      ]
     },
     "metadata": {},
     "output_type": "display_data"
    }
   ],
   "source": [
    "predict_line = np.polyval(w.T[0][::-1],x_ax)\n",
    "print(poly_coef)\n",
    "print(w.T[0][::-1])\n",
    "# Visualize\n",
    "plt.plot(errorProgress)\n",
    "fig = plt.figure()\n",
    "subplot = fig.add_subplot(1,1,1)\n",
    "subplot.set_xlim(0,10)\n",
    "subplot.set_ylim(min(poly_line)-1, max(poly_line)+1)\n",
    "subplot.grid('on')\n",
    "subplot.scatter(x_val, y_val)\n",
    "subplot.plot(x_ax, poly_line, 'r')\n",
    "subplot.plot(x_ax, predict_line, 'b')"
   ]
  },
  {
   "cell_type": "markdown",
   "metadata": {},
   "source": [
    "### Graphing Progress"
   ]
  }
 ],
 "metadata": {
  "kernelspec": {
   "display_name": "Python 3",
   "language": "python",
   "name": "python3"
  },
  "language_info": {
   "codemirror_mode": {
    "name": "ipython",
    "version": 3
   },
   "file_extension": ".py",
   "mimetype": "text/x-python",
   "name": "python",
   "nbconvert_exporter": "python",
   "pygments_lexer": "ipython3",
   "version": "3.6.3"
  }
 },
 "nbformat": 4,
 "nbformat_minor": 2
}
