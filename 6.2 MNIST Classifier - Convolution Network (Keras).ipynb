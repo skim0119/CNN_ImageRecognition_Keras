{
 "cells": [
  {
   "cell_type": "markdown",
   "metadata": {},
   "source": [
    "# Convolution Layer\n",
    "- Previous examples of convolutions were used to distill vertical and horizontal information from the image.\n",
    "- Consider how people see the world and classify objects. Instead of thinking about each 'pixels' of image and try to calculate the probability of individual pixels to be certain object, eye tries to capture some important characteristics of an image to notice the object.\n",
    "    - Convolution layer is a great tool to find specific 'characteristic' of an image data, such as vertical, horizontal, curve, gradient, ect.\n",
    "    - However, finding a correct shape of kernels is not an obvious task. This process of finding or developing the kernel to classify objects in this world might be equivalent to the process of babies growing.\n",
    "    - It is computationally complex, but it can be model similar to any other neural network.\n",
    "        - Instead of using constant kernel as before, if we set the kernel as a variable, we can use gradient descent method to find best kernels that classify the data.\n",
    "        - Number of kernels or shape of each kernel can be also dynamically adjusted as a part of back-propagation.\n",
    "        - This process is computationally large and complex, therefore we use more improvement techniques such as __pooling__, __dropout layer__, __ReLU cutout__.\n",
    "        - Some pre-processing layers can be added, such as\n",
    "            - normalizing dynamic range, auch as contrast\n",
    "            - cropping: try to determine position of object in image\n",
    "            - whitening: re-map the data from 0 to 1\n",
    "        - To improve the resulting network, following approaches are also made for batched samples:\n",
    "            - random cropping\n",
    "            - random translating/flopping"
   ]
  },
  {
   "cell_type": "code",
   "execution_count": 22,
   "metadata": {},
   "outputs": [],
   "source": [
    "# Settings\n",
    "import keras\n",
    "\n",
    "conv1_nKernel=32\n",
    "dense1_output=64\n",
    "dense2_output=10"
   ]
  },
  {
   "cell_type": "markdown",
   "metadata": {},
   "source": [
    "## Prepare MNIST Dataset"
   ]
  },
  {
   "cell_type": "code",
   "execution_count": 4,
   "metadata": {},
   "outputs": [],
   "source": [
    "from keras.datasets import mnist\n",
    "\n",
    "(x_train, y_train), (x_test, y_test) = mnist.load_data()\n",
    "\n",
    "x_train = x_train.reshape(60000, 784)\n",
    "x_test = x_test.reshape(10000, 784)\n",
    "x_train = x_train.astype('float32')\n",
    "x_test = x_test.astype('float32')\n",
    "x_train /= 255\n",
    "x_test /= 255\n",
    "t = y_train\n",
    "y_train = keras.utils.to_categorical(y_train, 10)\n",
    "y_test = keras.utils.to_categorical(y_test, 10)"
   ]
  },
  {
   "cell_type": "markdown",
   "metadata": {},
   "source": [
    "### Dataset Viasualize"
   ]
  },
  {
   "cell_type": "code",
   "execution_count": 5,
   "metadata": {
    "scrolled": true
   },
   "outputs": [
    {
     "data": {
      "image/png": "[encoded data removed]",
      "text/plain": [
       "<matplotlib.figure.Figure at 0x12d1c6cf8>"
      ]
     },
     "metadata": {},
     "output_type": "display_data"
    }
   ],
   "source": [
    "import matplotlib.pyplot as plt\n",
    "import numpy as np\n",
    "fig = plt.figure(figsize=(11,4))\n",
    "\n",
    "for i in range(30):\n",
    "    subplot = fig.add_subplot(3, 10, i+1)\n",
    "    subplot.set_xticks([])\n",
    "    subplot.set_yticks([])\n",
    "    subplot.set_title('%d' % t[i])\n",
    "    subplot.imshow(x_train[i].reshape((28,28)), vmin=0, vmax=1,\n",
    "                   cmap=plt.cm.gray_r, interpolation='nearest')"
   ]
  },
  {
   "cell_type": "code",
   "execution_count": 26,
   "metadata": {},
   "outputs": [
    {
     "data": {
      "text/plain": [
       "(60000, 784)"
      ]
     },
     "execution_count": 26,
     "metadata": {},
     "output_type": "execute_result"
    }
   ],
   "source": [
    "x_train.shape"
   ]
  },
  {
   "cell_type": "markdown",
   "metadata": {},
   "source": [
    "## Convolution Filter with Keras"
   ]
  },
  {
   "cell_type": "code",
   "execution_count": 20,
   "metadata": {},
   "outputs": [],
   "source": [
    "import keras\n",
    "from keras import Sequential\n",
    "from keras.layers import Conv2D, MaxPooling2D, Dropout, Flatten, Dense\n",
    "from keras import backend as K"
   ]
  },
  {
   "cell_type": "code",
   "execution_count": 23,
   "metadata": {},
   "outputs": [],
   "source": [
    "# Build Layers\n",
    "model = Sequential()\n",
    "\n",
    "# First Convolution Layer (32 kernels)\n",
    "model.add(Conv2D(conv1_nKernel, input_shape=(28,28,1),\n",
    "                 kernel_size=(3,3),\n",
    "                 padding='SAME',\n",
    "                 activation='relu',\n",
    "                 kernel_initializer = 'truncated_normal'\n",
    "                ))\n",
    "\n",
    "# Poolo\n",
    "model.add(MaxPooling2D(pool_size=(2,2)))\n",
    "model.add(Dropout(0.25))\n",
    "model.add(Flatten())\n",
    "\n",
    "# Fully Connected Layer\n",
    "model.add(Dense(dense1_output, activation='tanh',\n",
    "               kernel_initializer='truncated_normal',\n",
    "               bias_initializer='zeros'\n",
    "               ))\n",
    "model.add(Dense(dense2_output, activation='softmax',\n",
    "               kernel_initializer='zeros',\n",
    "               bias_initializer='zeros'\n",
    "               ))"
   ]
  },
  {
   "cell_type": "code",
   "execution_count": 24,
   "metadata": {},
   "outputs": [],
   "source": [
    "# Define Compiler\n",
    "model.compile(loss='categorical_crossentropy',\n",
    "                      optimizer='rmsprop',\n",
    "                      metrics=['accuracy'])"
   ]
  },
  {
   "cell_type": "markdown",
   "metadata": {},
   "source": [
    "## Training"
   ]
  },
  {
   "cell_type": "code",
   "execution_count": 27,
   "metadata": {},
   "outputs": [
    {
     "name": "stdout",
     "output_type": "stream",
     "text": [
      "Epoch 1/10\n",
      "60000/60000 [==============================] - 43s 709us/step - loss: 0.3999 - acc: 0.8963\n",
      "Epoch 2/10\n",
      "60000/60000 [==============================] - 41s 682us/step - loss: 0.1131 - acc: 0.9667\n",
      "Epoch 3/10\n",
      "60000/60000 [==============================] - 41s 681us/step - loss: 0.0765 - acc: 0.9773\n",
      "Epoch 4/10\n",
      "60000/60000 [==============================] - 41s 688us/step - loss: 0.0596 - acc: 0.9820\n",
      "Epoch 5/10\n",
      "60000/60000 [==============================] - 41s 683us/step - loss: 0.0490 - acc: 0.9858\n",
      "Epoch 6/10\n",
      "60000/60000 [==============================] - 41s 681us/step - loss: 0.0413 - acc: 0.9881\n",
      "Epoch 7/10\n",
      "60000/60000 [==============================] - 41s 684us/step - loss: 0.0364 - acc: 0.9893\n",
      "Epoch 8/10\n",
      "60000/60000 [==============================] - 41s 682us/step - loss: 0.0334 - acc: 0.9900\n",
      "Epoch 9/10\n",
      "60000/60000 [==============================] - 41s 683us/step - loss: 0.0290 - acc: 0.9911\n",
      "Epoch 10/10\n",
      "60000/60000 [==============================] - 41s 684us/step - loss: 0.0268 - acc: 0.9919\n"
     ]
    },
    {
     "data": {
      "text/plain": [
       "<keras.callbacks.History at 0x12c64fb00>"
      ]
     },
     "execution_count": 27,
     "metadata": {},
     "output_type": "execute_result"
    }
   ],
   "source": [
    "model.fit(x_train.reshape(-1,28,28,1), y_train, batch_size=100, epochs=10, verbose=1)"
   ]
  },
  {
   "cell_type": "code",
   "execution_count": 30,
   "metadata": {},
   "outputs": [
    {
     "name": "stdout",
     "output_type": "stream",
     "text": [
      "loss: 0.040704571085236965 accuracy: 0.9871\n"
     ]
    }
   ],
   "source": [
    "result = model.evaluate(x_test.reshape(-1,28,28,1), y_test, verbose=0)\n",
    "print('loss:', result[0], 'accuracy:', result[1])"
   ]
  }
 ],
 "metadata": {
  "kernelspec": {
   "display_name": "Python 3",
   "language": "python",
   "name": "python3"
  },
  "language_info": {
   "codemirror_mode": {
    "name": "ipython",
    "version": 3
   },
   "file_extension": ".py",
   "mimetype": "text/x-python",
   "name": "python",
   "nbconvert_exporter": "python",
   "pygments_lexer": "ipython3",
   "version": "3.6.3"
  }
 },
 "nbformat": 4,
 "nbformat_minor": 2
}
