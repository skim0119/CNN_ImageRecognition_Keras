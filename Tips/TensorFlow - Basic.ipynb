{
 "cells": [
  {
   "cell_type": "markdown",
   "metadata": {},
   "source": [
    "# TensorFlow - Basic\n",
    "\n",
    "- #Variable, #Constant, #Placeholder\n",
    "- #Session, #Run\n",
    "\n",
    "references:\n",
    "https://github.com/golbin/TensorFlow-Tutorials"
   ]
  },
  {
   "cell_type": "code",
   "execution_count": 2,
   "metadata": {
    "scrolled": true
   },
   "outputs": [
    {
     "name": "stderr",
     "output_type": "stream",
     "text": [
      "/Users/skim0119/Desktop/Project/DeepLearning_Notes/.venv/lib/python3.6/importlib/_bootstrap.py:219: RuntimeWarning: compiletime version 3.5 of module 'tensorflow.python.framework.fast_tensor_util' does not match runtime version 3.6\n",
      "  return f(*args, **kwds)\n"
     ]
    }
   ],
   "source": [
    "# Import Packages\n",
    "%matplotlib inline\n",
    "import tensorflow as tf\n",
    "import matplotlib.pyplot as plt\n",
    "import numpy as np"
   ]
  },
  {
   "cell_type": "markdown",
   "metadata": {},
   "source": [
    "## Constant"
   ]
  },
  {
   "cell_type": "code",
   "execution_count": 3,
   "metadata": {},
   "outputs": [
    {
     "name": "stdout",
     "output_type": "stream",
     "text": [
      "[b'Hello, TensorFlow!', 1, 3, 4]\n"
     ]
    }
   ],
   "source": [
    "# tf.constant object\n",
    "s = tf.constant('Hello, TensorFlow!')\n",
    "a = tf.constant(1)\n",
    "b = tf.constant(3)\n",
    "c = tf.add(a,b)\n",
    "\n",
    "sess = tf.Session()\n",
    "print(sess.run([s, a, b, c]))\n",
    "\n",
    "sess.close()"
   ]
  },
  {
   "cell_type": "markdown",
   "metadata": {},
   "source": [
    "## Variable and Placeholder"
   ]
  },
  {
   "cell_type": "code",
   "execution_count": 6,
   "metadata": {},
   "outputs": [
    {
     "data": {
      "text/plain": [
       "<tf.Tensor 'Placeholder_1:0' shape=(?, 5) dtype=float32>"
      ]
     },
     "execution_count": 6,
     "metadata": {},
     "output_type": "execute_result"
    }
   ],
   "source": [
    "# 입력값을 받는 변수. None:  사이즈 미정\n",
    "X = tf.placeholder(tf.float32, [None, 5])\n",
    "X"
   ]
  },
  {
   "cell_type": "code",
   "execution_count": 7,
   "metadata": {},
   "outputs": [],
   "source": [
    "# placeholder 에 입력할 데이터. 사이즈는 None x 5:\n",
    "data = [[1, 2, 3, 4, 5], [-1, -2, -3, -4, -5]] # 2 x 5\n",
    "\n",
    "# tf.Variable: 변수. 계산중 최적화 가능. random_normal 로 초기화 설정.\n",
    "W = tf.Variable(tf.random_normal([5, 2])) # weight\n",
    "b = tf.Variable(tf.random_normal([2, 1]))\n",
    "\n",
    "# 수식\n",
    "eqn = tf.matmul(X, W) + b"
   ]
  },
  {
   "cell_type": "code",
   "execution_count": 14,
   "metadata": {},
   "outputs": [
    {
     "name": "stdout",
     "output_type": "stream",
     "text": [
      "data :\n",
      " [[1, 2, 3, 4, 5], [-1, -2, -3, -4, -5]]\n",
      "Weights:\n",
      " [[ 0.97133017 -0.06637173]\n",
      " [ 0.3681443  -0.29979128]\n",
      " [ 1.0571321   0.2638808 ]\n",
      " [ 0.3022843  -1.6598173 ]\n",
      " [-0.7350317   1.0240216 ]]\n",
      "bias:\n",
      " [[2.3556144 ]\n",
      " [0.47493073]]\n",
      "WX + b =\n",
      " [[ 4.768608   0.9621413]\n",
      " [-1.9380627  1.8684039]]\n"
     ]
    }
   ],
   "source": [
    "# 실행 과정:\n",
    "sess = tf.Session()\n",
    "# 변수들을 설정값으로 초기화\n",
    "sess.run(tf.global_variables_initializer())\n",
    "\n",
    "print('data :\\n', data)\n",
    "print('Weights:\\n', sess.run(W))\n",
    "print('bias:\\n', sess.run(b))\n",
    "print('WX + b =\\n', sess.run(eqn, feed_dict={X:data}))\n",
    "\n",
    "sess.close()"
   ]
  }
 ],
 "metadata": {
  "kernelspec": {
   "display_name": "Python 3",
   "language": "python",
   "name": "python3"
  },
  "language_info": {
   "codemirror_mode": {
    "name": "ipython",
    "version": 3
   },
   "file_extension": ".py",
   "mimetype": "text/x-python",
   "name": "python",
   "nbconvert_exporter": "python",
   "pygments_lexer": "ipython3",
   "version": "3.6.3"
  }
 },
 "nbformat": 4,
 "nbformat_minor": 2
}
