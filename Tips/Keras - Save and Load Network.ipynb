{
 "cells": [
  {
   "cell_type": "markdown",
   "metadata": {},
   "source": [
    "# Save/Load Network in Keras\n",
    "\n",
    "- https://stackoverflow.com/questions/47266383/save-and-load-weights-in-keras\n",
    "- https://www.youtube.com/watch?v=7n1SpeudvAE&feature=youtu.be"
   ]
  },
  {
   "cell_type": "markdown",
   "metadata": {},
   "source": [
    "## 1. Save Weights\n",
    "- This method only saves weights of the model.\n",
    "- Loading weight only works on the exact same network architecture.\n",
    "\n",
    "``` py\n",
    "model.save_weights('my_model_weights.h5')\n",
    "model.load_weights('my_model_weights.h5')\n",
    "```"
   ]
  },
  {
   "cell_type": "markdown",
   "metadata": {},
   "source": [
    "## 2. Save Model\n",
    "- This function saves:\n",
    "    - Architecture of the model\n",
    "    - Weights\n",
    "    - Configuration (loss, optimizer)\n",
    "    - State of the optimizer (to resume training)\n",
    "\n",
    "\n",
    "``` py\n",
    "from keras.models import save,load_model\n",
    "model.save(filepath)\n",
    "new_model = load_model(filepath)\n",
    "```"
   ]
  },
  {
   "cell_type": "markdown",
   "metadata": {},
   "source": [
    "## 3. Save Archtecture (.Json format)\n",
    "\n",
    "- This method saves only the architecture of the model to JSON file format.\n",
    "\n",
    "```py\n",
    "from keras.models import model_from_json\n",
    "model.to_jason()\n",
    "loaded_model = model_from_json(json_string)\n",
    "```"
   ]
  }
 ],
 "metadata": {
  "kernelspec": {
   "display_name": "Python 3",
   "language": "python",
   "name": "python3"
  },
  "language_info": {
   "codemirror_mode": {
    "name": "ipython",
    "version": 3
   },
   "file_extension": ".py",
   "mimetype": "text/x-python",
   "name": "python",
   "nbconvert_exporter": "python",
   "pygments_lexer": "ipython3",
   "version": "3.6.3"
  }
 },
 "nbformat": 4,
 "nbformat_minor": 2
}
