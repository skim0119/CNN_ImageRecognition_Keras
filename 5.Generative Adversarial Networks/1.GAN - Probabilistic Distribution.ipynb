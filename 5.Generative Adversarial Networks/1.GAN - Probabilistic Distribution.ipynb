{
 "cells": [
  {
   "cell_type": "markdown",
   "metadata": {},
   "source": [
    "# GAN - Create Probabilistic Distribution\n",
    "- Fully connected  layer GAN\n",
    "\n",
    "![GAN](https://s3-ap-south-1.amazonaws.com/av-blog-media/wp-content/uploads/2017/06/11000153/g1.jpg)"
   ]
  },
  {
   "cell_type": "code",
   "execution_count": 1,
   "metadata": {
    "scrolled": true
   },
   "outputs": [
    {
     "name": "stderr",
     "output_type": "stream",
     "text": [
      "/Users/skim0119/venv/GenP3/lib/python3.6/site-packages/h5py/__init__.py:34: FutureWarning: Conversion of the second argument of issubdtype from `float` to `np.floating` is deprecated. In future, it will be treated as `np.float64 == np.dtype(float).type`.\n",
      "  from ._conv import register_converters as _register_converters\n",
      "Using TensorFlow backend.\n",
      "/Users/skim0119/venv/GenP3/lib/python3.6/importlib/_bootstrap.py:219: RuntimeWarning: compiletime version 3.5 of module 'tensorflow.python.framework.fast_tensor_util' does not match runtime version 3.6\n",
      "  return f(*args, **kwds)\n"
     ]
    }
   ],
   "source": [
    "%matplotlib inline\n",
    "from importlib import reload\n",
    "\n",
    "import matplotlib.pyplot as plt\n",
    "import numpy as np\n",
    "import pandas as pd\n",
    "import os\n",
    "\n",
    "import keras\n",
    "from keras import models\n",
    "from keras.models import Sequential\n",
    "from keras.layers import Dense, Conv1D, Reshape, Flatten, Lambda\n",
    "from keras.optimizers import Adam\n",
    "from keras import backend as K"
   ]
  },
  {
   "cell_type": "markdown",
   "metadata": {},
   "source": [
    "## Prepare Data"
   ]
  },
  {
   "cell_type": "code",
   "execution_count": 2,
   "metadata": {
    "scrolled": true
   },
   "outputs": [
    {
     "data": {
      "image/png": "[encoded data removed]",
      "text/plain": [
       "<matplotlib.figure.Figure at 0x11dfa9518>"
      ]
     },
     "metadata": {},
     "output_type": "display_data"
    }
   ],
   "source": [
    "data_mean = 4\n",
    "data_stddev = 1.25\n",
    "ni_D=100\n",
    "\n",
    "real_sample = lambda n_batch: np.random.normal(data_mean, data_stddev, (n_batch, ni_D))\n",
    "in_sample = lambda n_batch: np.random.rand(n_batch, ni_D)\n",
    "\n",
    "plt.hist(real_sample(10).reshape(-1), histtype='step', label='Real')\n",
    "plt.legend(loc=0)\n",
    "plt.show()"
   ]
  },
  {
   "cell_type": "markdown",
   "metadata": {},
   "source": [
    "## Model"
   ]
  },
  {
   "cell_type": "code",
   "execution_count": 3,
   "metadata": {},
   "outputs": [],
   "source": [
    "adam = Adam(lr=0.0002, beta_1=0.9, beta_2=0.999)\n",
    "def set_compile(model):\n",
    "    return model.compile(loss='binary_crossentropy',\n",
    "                         optimizer=Adam(lr=0.0002, beta_1=0.9, beta_2=0.999),\n",
    "                         metrics=['accuracy'])\n",
    "\n",
    "# set dimension\n",
    "disc_inp = 100\n",
    "disc_hid = 50\n",
    "gene_hid = 50"
   ]
  },
  {
   "cell_type": "code",
   "execution_count": 4,
   "metadata": {},
   "outputs": [],
   "source": [
    "def add_decorate(x):\n",
    "    m = K.mean(x, axis=-1, keepdims=True)\n",
    "    d = K.square(x - m)\n",
    "    return K.concatenate([x, d], axis=-1)\n",
    "\n",
    "\n",
    "def add_decorate_shape(input_shape):\n",
    "    shape = list(input_shape)\n",
    "    assert len(shape) == 2\n",
    "    shape[1] *= 2\n",
    "    return tuple(shape)"
   ]
  },
  {
   "cell_type": "markdown",
   "metadata": {},
   "source": [
    "### Generator Network"
   ]
  },
  {
   "cell_type": "code",
   "execution_count": 5,
   "metadata": {},
   "outputs": [],
   "source": [
    "gen_model = Sequential()  # (Batch, disc_inp)\n",
    "gen_model.add(Reshape((disc_inp, 1), input_shape=(disc_inp,)))  # (Batch, steps=disc_inp, input_dim=1)\n",
    "gen_model.add(Conv1D(gene_hid, 1, activation='relu'))  # (Batch, disc_inp, gene_hid)\n",
    "gen_model.add(Conv1D(gene_hid, 1, activation='sigmoid'))  # (Batch, disc_inp, gene_hid)\n",
    "gen_model.add(Conv1D(1, 1))  # (Batch, disc_inp, 1)\n",
    "gen_model.add(Flatten())  # (Batch, disc_inp)\n",
    "\n",
    "set_compile(gen_model)"
   ]
  },
  {
   "cell_type": "markdown",
   "metadata": {},
   "source": [
    "### Discriminator Network"
   ]
  },
  {
   "cell_type": "code",
   "execution_count": 6,
   "metadata": {},
   "outputs": [],
   "source": [
    "dis_model = Sequential()\n",
    "dis_model.add(Lambda(add_decorate, output_shape=add_decorate_shape, input_shape=(disc_inp,)))\n",
    "dis_model.add(Dense(disc_hid, activation='relu'))\n",
    "dis_model.add(Dense(disc_hid, activation='relu'))\n",
    "dis_model.add(Dense(1, activation='sigmoid'))\n",
    "\n",
    "set_compile(dis_model)"
   ]
  },
  {
   "cell_type": "markdown",
   "metadata": {},
   "source": [
    "### Generator + Discriminator Network"
   ]
  },
  {
   "cell_type": "code",
   "execution_count": 7,
   "metadata": {},
   "outputs": [],
   "source": [
    "total_model = Sequential()\n",
    "total_model.add(gen_model)\n",
    "total_model.add(dis_model)\n",
    "dis_model.trainable = False\n",
    "set_compile(total_model)\n",
    "dis_model.trainable = True"
   ]
  },
  {
   "cell_type": "markdown",
   "metadata": {},
   "source": [
    "## Training"
   ]
  },
  {
   "cell_type": "code",
   "execution_count": 8,
   "metadata": {},
   "outputs": [],
   "source": [
    "def discriminator_train_on_batch(Real, Gen):\n",
    "    X = np.concatenate([Real, Gen], axis=0)\n",
    "    y = np.array([1] * Real.shape[0] + [0] * Gen.shape[0])\n",
    "    dis_model.train_on_batch(X, y)\n",
    "\n",
    "def total_train_on_batch(Z):\n",
    "    y = np.array([1] * Z.shape[0])\n",
    "    total_model.train_on_batch(Z, y)"
   ]
  },
  {
   "cell_type": "code",
   "execution_count": 9,
   "metadata": {},
   "outputs": [],
   "source": [
    "n_batch = 1\n",
    "n_iter_D = 1\n",
    "n_iter_G = 5\n",
    "\n",
    "def train(epochs):\n",
    "    for epoch in range(epochs):\n",
    "        # Train Discriminator\n",
    "        for i in range(n_iter_D):\n",
    "            r = real_sample(n_batch)\n",
    "            z = in_sample(n_batch)  # input sample\n",
    "            predict = gen_model.predict(z)\n",
    "\n",
    "            dis_model.trainable = True\n",
    "            discriminator_train_on_batch(r, predict)\n",
    "            \n",
    "        # Train Generator after\n",
    "        for i in range(n_iter_G):\n",
    "            z = in_sample(n_batch)\n",
    "            dis_model.trainable = False\n",
    "            total_train_on_batch(z)\n",
    "\n",
    "def visualize(n_test):\n",
    "    z = in_sample(n_test)\n",
    "    predict = gen_model.predict(z)\n",
    "    r = real_sample(n_test)\n",
    "    \n",
    "    plt.hist(r.reshape(-1), histtype='step', label='Real')\n",
    "    plt.hist(predict.reshape(-1), histtype='step', label='Generated')\n",
    "    plt.legend(loc=0)\n",
    "    plt.show()\n",
    "    \n",
    "    def stat(d):\n",
    "        return (np.mean(d), np.std(d))\n",
    "    print('Mean and Std of Real:', stat(r))\n",
    "    print('Mean and Std of Gen:', stat(predict))"
   ]
  },
  {
   "cell_type": "code",
   "execution_count": 10,
   "metadata": {
    "scrolled": true
   },
   "outputs": [
    {
     "name": "stdout",
     "output_type": "stream",
     "text": [
      "Stage 0 (Epoch: 0)\n"
     ]
    },
    {
     "data": {
      "image/png": "[encoded data removed]",
      "text/plain": [
       "<matplotlib.figure.Figure at 0x11dfa9828>"
      ]
     },
     "metadata": {},
     "output_type": "display_data"
    },
    {
     "name": "stdout",
     "output_type": "stream",
     "text": [
      "Mean and Std of Real: (3.9912300750455847, 1.2440979858801862)\n",
      "Mean and Std of Gen: (2.3360398, 1.0654552)\n",
      "Stage 1 (Epoch: 200)\n",
      "Stage 2 (Epoch: 400)\n",
      "Stage 3 (Epoch: 600)\n",
      "Stage 4 (Epoch: 800)\n",
      "Stage 5 (Epoch: 1000)\n",
      "Stage 6 (Epoch: 1200)\n",
      "Stage 7 (Epoch: 1400)\n",
      "Stage 8 (Epoch: 1600)\n",
      "Stage 9 (Epoch: 1800)\n",
      "Stage 10 (Epoch: 2000)\n",
      "Stage 11 (Epoch: 2200)\n",
      "Stage 12 (Epoch: 2400)\n",
      "Stage 13 (Epoch: 2600)\n",
      "Stage 14 (Epoch: 2800)\n",
      "Stage 15 (Epoch: 3000)\n",
      "Stage 16 (Epoch: 3200)\n",
      "Stage 17 (Epoch: 3400)\n",
      "Stage 18 (Epoch: 3600)\n",
      "Stage 19 (Epoch: 3800)\n",
      "Stage 20 (Epoch: 4000)\n"
     ]
    },
    {
     "data": {
      "image/png": "[encoded data removed]",
      "text/plain": [
       "<matplotlib.figure.Figure at 0x1203bb588>"
      ]
     },
     "metadata": {},
     "output_type": "display_data"
    },
    {
     "name": "stdout",
     "output_type": "stream",
     "text": [
      "Mean and Std of Real: (3.99683352269331, 1.2526851290487206)\n",
      "Mean and Std of Gen: (4.2911634, 1.1995435)\n",
      "Stage 21 (Epoch: 4200)\n",
      "Stage 22 (Epoch: 4400)\n",
      "Stage 23 (Epoch: 4600)\n",
      "Stage 24 (Epoch: 4800)\n",
      "Stage 25 (Epoch: 5000)\n",
      "Stage 26 (Epoch: 5200)\n",
      "Stage 27 (Epoch: 5400)\n",
      "Stage 28 (Epoch: 5600)\n",
      "Stage 29 (Epoch: 5800)\n",
      "Stage 30 (Epoch: 6000)\n",
      "Stage 31 (Epoch: 6200)\n",
      "Stage 32 (Epoch: 6400)\n",
      "Stage 33 (Epoch: 6600)\n",
      "Stage 34 (Epoch: 6800)\n",
      "Stage 35 (Epoch: 7000)\n",
      "Stage 36 (Epoch: 7200)\n",
      "Stage 37 (Epoch: 7400)\n",
      "Stage 38 (Epoch: 7600)\n",
      "Stage 39 (Epoch: 7800)\n",
      "Stage 40 (Epoch: 8000)\n"
     ]
    },
    {
     "data": {
      "image/png": "[encoded data removed]",
      "text/plain": [
       "<matplotlib.figure.Figure at 0x1203ae908>"
      ]
     },
     "metadata": {},
     "output_type": "display_data"
    },
    {
     "name": "stdout",
     "output_type": "stream",
     "text": [
      "Mean and Std of Real: (3.9790354069486247, 1.258880710088651)\n",
      "Mean and Std of Gen: (4.1840825, 1.342665)\n",
      "Stage 41 (Epoch: 8200)\n",
      "Stage 42 (Epoch: 8400)\n",
      "Stage 43 (Epoch: 8600)\n",
      "Stage 44 (Epoch: 8800)\n",
      "Stage 45 (Epoch: 9000)\n",
      "Stage 46 (Epoch: 9200)\n",
      "Stage 47 (Epoch: 9400)\n",
      "Stage 48 (Epoch: 9600)\n",
      "Stage 49 (Epoch: 9800)\n",
      "Stage 50 (Epoch: 10000)\n",
      "Stage 51 (Epoch: 10200)\n",
      "Stage 52 (Epoch: 10400)\n",
      "Stage 53 (Epoch: 10600)\n",
      "Stage 54 (Epoch: 10800)\n",
      "Stage 55 (Epoch: 11000)\n",
      "Stage 56 (Epoch: 11200)\n",
      "Stage 57 (Epoch: 11400)\n",
      "Stage 58 (Epoch: 11600)\n",
      "Stage 59 (Epoch: 11800)\n",
      "Stage 60 (Epoch: 12000)\n"
     ]
    },
    {
     "data": {
      "image/png": "[encoded data removed]",
      "text/plain": [
       "<matplotlib.figure.Figure at 0x11e0da828>"
      ]
     },
     "metadata": {},
     "output_type": "display_data"
    },
    {
     "name": "stdout",
     "output_type": "stream",
     "text": [
      "Mean and Std of Real: (4.001496862704738, 1.2578327625786403)\n",
      "Mean and Std of Gen: (4.0618825, 1.3058584)\n",
      "Stage 61 (Epoch: 12200)\n",
      "Stage 62 (Epoch: 12400)\n",
      "Stage 63 (Epoch: 12600)\n",
      "Stage 64 (Epoch: 12800)\n",
      "Stage 65 (Epoch: 13000)\n",
      "Stage 66 (Epoch: 13200)\n",
      "Stage 67 (Epoch: 13400)\n",
      "Stage 68 (Epoch: 13600)\n",
      "Stage 69 (Epoch: 13800)\n",
      "Stage 70 (Epoch: 14000)\n",
      "Stage 71 (Epoch: 14200)\n",
      "Stage 72 (Epoch: 14400)\n",
      "Stage 73 (Epoch: 14600)\n",
      "Stage 74 (Epoch: 14800)\n",
      "Stage 75 (Epoch: 15000)\n",
      "Stage 76 (Epoch: 15200)\n",
      "Stage 77 (Epoch: 15400)\n",
      "Stage 78 (Epoch: 15600)\n",
      "Stage 79 (Epoch: 15800)\n",
      "Stage 80 (Epoch: 16000)\n"
     ]
    },
    {
     "data": {
      "image/png": "[encoded data removed]",
      "text/plain": [
       "<matplotlib.figure.Figure at 0x12064cef0>"
      ]
     },
     "metadata": {},
     "output_type": "display_data"
    },
    {
     "name": "stdout",
     "output_type": "stream",
     "text": [
      "Mean and Std of Real: (4.015611104466237, 1.2416844168754602)\n",
      "Mean and Std of Gen: (4.321155, 1.3399917)\n",
      "Stage 81 (Epoch: 16200)\n",
      "Stage 82 (Epoch: 16400)\n",
      "Stage 83 (Epoch: 16600)\n",
      "Stage 84 (Epoch: 16800)\n",
      "Stage 85 (Epoch: 17000)\n",
      "Stage 86 (Epoch: 17200)\n",
      "Stage 87 (Epoch: 17400)\n",
      "Stage 88 (Epoch: 17600)\n",
      "Stage 89 (Epoch: 17800)\n",
      "Stage 90 (Epoch: 18000)\n",
      "Stage 91 (Epoch: 18200)\n",
      "Stage 92 (Epoch: 18400)\n",
      "Stage 93 (Epoch: 18600)\n",
      "Stage 94 (Epoch: 18800)\n",
      "Stage 95 (Epoch: 19000)\n",
      "Stage 96 (Epoch: 19200)\n",
      "Stage 97 (Epoch: 19400)\n",
      "Stage 98 (Epoch: 19600)\n",
      "Stage 99 (Epoch: 19800)\n",
      "Stage 100 (Epoch: 20000)\n"
     ]
    },
    {
     "data": {
      "image/png": "[encoded data removed]",
      "text/plain": [
       "<matplotlib.figure.Figure at 0x1203a2cf8>"
      ]
     },
     "metadata": {},
     "output_type": "display_data"
    },
    {
     "name": "stdout",
     "output_type": "stream",
     "text": [
      "Mean and Std of Real: (3.9962039084296643, 1.2554637123398271)\n",
      "Mean and Std of Gen: (3.2708561, 1.1550837)\n",
      "Stage 101 (Epoch: 20200)\n",
      "Stage 102 (Epoch: 20400)\n",
      "Stage 103 (Epoch: 20600)\n",
      "Stage 104 (Epoch: 20800)\n",
      "Stage 105 (Epoch: 21000)\n",
      "Stage 106 (Epoch: 21200)\n",
      "Stage 107 (Epoch: 21400)\n",
      "Stage 108 (Epoch: 21600)\n",
      "Stage 109 (Epoch: 21800)\n",
      "Stage 110 (Epoch: 22000)\n",
      "Stage 111 (Epoch: 22200)\n",
      "Stage 112 (Epoch: 22400)\n",
      "Stage 113 (Epoch: 22600)\n",
      "Stage 114 (Epoch: 22800)\n",
      "Stage 115 (Epoch: 23000)\n",
      "Stage 116 (Epoch: 23200)\n",
      "Stage 117 (Epoch: 23400)\n",
      "Stage 118 (Epoch: 23600)\n",
      "Stage 119 (Epoch: 23800)\n",
      "Stage 120 (Epoch: 24000)\n"
     ]
    },
    {
     "data": {
      "image/png": "[encoded data removed]",
      "text/plain": [
       "<matplotlib.figure.Figure at 0x1203ae2e8>"
      ]
     },
     "metadata": {},
     "output_type": "display_data"
    },
    {
     "name": "stdout",
     "output_type": "stream",
     "text": [
      "Mean and Std of Real: (3.9929876090075465, 1.2409500881337914)\n",
      "Mean and Std of Gen: (3.690912, 1.228524)\n",
      "Stage 121 (Epoch: 24200)\n",
      "Stage 122 (Epoch: 24400)\n",
      "Stage 123 (Epoch: 24600)\n",
      "Stage 124 (Epoch: 24800)\n",
      "Stage 125 (Epoch: 25000)\n",
      "Stage 126 (Epoch: 25200)\n",
      "Stage 127 (Epoch: 25400)\n",
      "Stage 128 (Epoch: 25600)\n",
      "Stage 129 (Epoch: 25800)\n",
      "Stage 130 (Epoch: 26000)\n",
      "Stage 131 (Epoch: 26200)\n",
      "Stage 132 (Epoch: 26400)\n",
      "Stage 133 (Epoch: 26600)\n",
      "Stage 134 (Epoch: 26800)\n",
      "Stage 135 (Epoch: 27000)\n",
      "Stage 136 (Epoch: 27200)\n",
      "Stage 137 (Epoch: 27400)\n",
      "Stage 138 (Epoch: 27600)\n",
      "Stage 139 (Epoch: 27800)\n",
      "Stage 140 (Epoch: 28000)\n"
     ]
    },
    {
     "data": {
      "image/png": "[encoded data removed]",
      "text/plain": [
       "<matplotlib.figure.Figure at 0x1203c68d0>"
      ]
     },
     "metadata": {},
     "output_type": "display_data"
    },
    {
     "name": "stdout",
     "output_type": "stream",
     "text": [
      "Mean and Std of Real: (4.0065048222684245, 1.2570213791532112)\n",
      "Mean and Std of Gen: (4.4274263, 1.2913477)\n",
      "Stage 141 (Epoch: 28200)\n",
      "Stage 142 (Epoch: 28400)\n",
      "Stage 143 (Epoch: 28600)\n",
      "Stage 144 (Epoch: 28800)\n",
      "Stage 145 (Epoch: 29000)\n",
      "Stage 146 (Epoch: 29200)\n",
      "Stage 147 (Epoch: 29400)\n",
      "Stage 148 (Epoch: 29600)\n",
      "Stage 149 (Epoch: 29800)\n",
      "Stage 150 (Epoch: 30000)\n",
      "Stage 151 (Epoch: 30200)\n",
      "Stage 152 (Epoch: 30400)\n",
      "Stage 153 (Epoch: 30600)\n",
      "Stage 154 (Epoch: 30800)\n",
      "Stage 155 (Epoch: 31000)\n",
      "Stage 156 (Epoch: 31200)\n",
      "Stage 157 (Epoch: 31400)\n",
      "Stage 158 (Epoch: 31600)\n",
      "Stage 159 (Epoch: 31800)\n",
      "Stage 160 (Epoch: 32000)\n"
     ]
    },
    {
     "data": {
      "image/png": "[encoded data removed]",
      "text/plain": [
       "<matplotlib.figure.Figure at 0x1204ec198>"
      ]
     },
     "metadata": {},
     "output_type": "display_data"
    },
    {
     "name": "stdout",
     "output_type": "stream",
     "text": [
      "Mean and Std of Real: (3.9910535235287723, 1.2527586783463418)\n",
      "Mean and Std of Gen: (4.024385, 1.2668993)\n",
      "Stage 161 (Epoch: 32200)\n",
      "Stage 162 (Epoch: 32400)\n",
      "Stage 163 (Epoch: 32600)\n",
      "Stage 164 (Epoch: 32800)\n",
      "Stage 165 (Epoch: 33000)\n",
      "Stage 166 (Epoch: 33200)\n",
      "Stage 167 (Epoch: 33400)\n",
      "Stage 168 (Epoch: 33600)\n",
      "Stage 169 (Epoch: 33800)\n",
      "Stage 170 (Epoch: 34000)\n",
      "Stage 171 (Epoch: 34200)\n",
      "Stage 172 (Epoch: 34400)\n",
      "Stage 173 (Epoch: 34600)\n",
      "Stage 174 (Epoch: 34800)\n",
      "Stage 175 (Epoch: 35000)\n",
      "Stage 176 (Epoch: 35200)\n",
      "Stage 177 (Epoch: 35400)\n",
      "Stage 178 (Epoch: 35600)\n",
      "Stage 179 (Epoch: 35800)\n",
      "Stage 180 (Epoch: 36000)\n"
     ]
    },
    {
     "data": {
      "image/png": "[encoded data removed]",
      "text/plain": [
       "<matplotlib.figure.Figure at 0x120495160>"
      ]
     },
     "metadata": {},
     "output_type": "display_data"
    },
    {
     "name": "stdout",
     "output_type": "stream",
     "text": [
      "Mean and Std of Real: (4.006665777846503, 1.2486993085239984)\n",
      "Mean and Std of Gen: (3.8191605, 1.1719447)\n",
      "Stage 181 (Epoch: 36200)\n",
      "Stage 182 (Epoch: 36400)\n",
      "Stage 183 (Epoch: 36600)\n",
      "Stage 184 (Epoch: 36800)\n",
      "Stage 185 (Epoch: 37000)\n",
      "Stage 186 (Epoch: 37200)\n",
      "Stage 187 (Epoch: 37400)\n",
      "Stage 188 (Epoch: 37600)\n",
      "Stage 189 (Epoch: 37800)\n",
      "Stage 190 (Epoch: 38000)\n",
      "Stage 191 (Epoch: 38200)\n",
      "Stage 192 (Epoch: 38400)\n",
      "Stage 193 (Epoch: 38600)\n",
      "Stage 194 (Epoch: 38800)\n",
      "Stage 195 (Epoch: 39000)\n",
      "Stage 196 (Epoch: 39200)\n",
      "Stage 197 (Epoch: 39400)\n",
      "Stage 198 (Epoch: 39600)\n",
      "Stage 199 (Epoch: 39800)\n"
     ]
    }
   ],
   "source": [
    "n_repeat=200\n",
    "n_show=200\n",
    "n_test=100\n",
    "for i in range(n_repeat):\n",
    "    print('Stage', i, '(Epoch: {})'.format(i * n_show))\n",
    "\n",
    "    train(n_show)\n",
    "    if i % 20 == 0: visualize(n_test)\n",
    "\n",
    "    plt.show()"
   ]
  }
 ],
 "metadata": {
  "kernelspec": {
   "display_name": "Python 3",
   "language": "python",
   "name": "python3"
  },
  "language_info": {
   "codemirror_mode": {
    "name": "ipython",
    "version": 3
   },
   "file_extension": ".py",
   "mimetype": "text/x-python",
   "name": "python",
   "nbconvert_exporter": "python",
   "pygments_lexer": "ipython3",
   "version": "3.6.3"
  }
 },
 "nbformat": 4,
 "nbformat_minor": 2
}
