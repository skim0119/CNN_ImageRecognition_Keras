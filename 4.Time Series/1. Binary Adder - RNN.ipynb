{
 "cells": [
  {
   "cell_type": "markdown",
   "metadata": {},
   "source": [
    "# Binary Adder using RNN\n",
    "\n",
    "- The idea is referenced from the link: https://iamtrask.github.io/2015/11/15/anyone-can-code-lstm/"
   ]
  },
  {
   "cell_type": "markdown",
   "metadata": {},
   "source": [
    "## Model"
   ]
  },
  {
   "cell_type": "code",
   "execution_count": 1,
   "metadata": {},
   "outputs": [],
   "source": [
    "import copy, numpy as np"
   ]
  },
  {
   "cell_type": "code",
   "execution_count": 2,
   "metadata": {},
   "outputs": [],
   "source": [
    "np.random.seed(0)\n",
    "\n",
    "# compute sigmoid nonlinearity\n",
    "def sigmoid(x):\n",
    "    output = 1/(1+np.exp(-x))\n",
    "    return output\n",
    "\n",
    "# convert output of sigmoid function to its derivative\n",
    "def sigmoid_output_to_derivative(output):\n",
    "    return output*(1-output)"
   ]
  },
  {
   "cell_type": "code",
   "execution_count": 3,
   "metadata": {},
   "outputs": [],
   "source": [
    "# Variables\n",
    "alpha = 0.1\n",
    "input_dim = 2\n",
    "hidden_dim = 16\n",
    "output_dim = 1"
   ]
  },
  {
   "cell_type": "code",
   "execution_count": 4,
   "metadata": {},
   "outputs": [],
   "source": [
    "# Neural Network Weights\n",
    "synapse_0 = 2*np.random.random((input_dim,hidden_dim)) - 1\n",
    "synapse_1 = 2*np.random.random((hidden_dim,output_dim)) - 1\n",
    "synapse_h = 2*np.random.random((hidden_dim,hidden_dim)) - 1\n",
    "\n",
    "# Layers\n",
    "layer_2_deltas = list()\n",
    "layer_1_values = list()"
   ]
  },
  {
   "cell_type": "markdown",
   "metadata": {},
   "source": [
    "## Prepare Dataset\n",
    "\n",
    "- Maximum binary length is set to 7, since I would like to fit result data in 8 digit array."
   ]
  },
  {
   "cell_type": "code",
   "execution_count": 5,
   "metadata": {},
   "outputs": [],
   "source": [
    "# Dataset\n",
    "def generate_dataset(max_features = 20000, ratio = 0.2, binary_length = 7):\n",
    "    nTrain, nTest = int(max_features*(1-ratio)), int(max_features * ratio)\n",
    "    upper_lim = pow(2,binary_length) # actual upper value is 1 less.\n",
    "    r_train_set = np.random.randint(upper_lim, size=(nTrain,2))\n",
    "    r_test_set = np.random.randint(upper_lim, size=(nTest,2))\n",
    "\n",
    "    # Dictionary of binary array\n",
    "    int2bin = np.unpackbits(\n",
    "        np.arange(2*upper_lim).astype(np.uint8)[:, None], axis=-1).tolist()\n",
    "    for i in range(len(int2bin)): int2bin[i].reverse()\n",
    "    \n",
    "    # Training Set\n",
    "    X_train, y_train = [],[]\n",
    "    for a, b in r_train_set:\n",
    "        X_train.append((int2bin[a],int2bin[b]))\n",
    "        y_train.append(int2bin[a+b])\n",
    "        \n",
    "    X_test, y_test = [],[]\n",
    "    for a, b in r_test_set:\n",
    "        X_test.append((int2bin[a],int2bin[b]))\n",
    "        y_test.append(int2bin[a+b])\n",
    "    return (X_train, y_train), (X_test, y_test)\n",
    "    \n",
    "(X_train, y_train), (X_test, y_test) = generate_dataset()"
   ]
  },
  {
   "cell_type": "markdown",
   "metadata": {},
   "source": [
    "### Visualize Data"
   ]
  },
  {
   "cell_type": "code",
   "execution_count": 6,
   "metadata": {},
   "outputs": [
    {
     "name": "stdout",
     "output_type": "stream",
     "text": [
      "([1, 0, 0, 1, 0, 0, 0, 0], [0, 0, 1, 1, 1, 1, 0, 0])\n",
      "[1, 0, 1, 0, 0, 0, 1, 0]\n",
      "([0, 1, 0, 0, 0, 1, 1, 0], [1, 0, 0, 0, 0, 1, 1, 0])\n",
      "[1, 1, 0, 0, 0, 0, 1, 1]\n"
     ]
    }
   ],
   "source": [
    "print(X_train[0])\n",
    "print(y_train[0])\n",
    "print(X_train[5])\n",
    "print(y_train[5])"
   ]
  },
  {
   "cell_type": "markdown",
   "metadata": {},
   "source": [
    "## Training"
   ]
  },
  {
   "cell_type": "code",
   "execution_count": 7,
   "metadata": {},
   "outputs": [],
   "source": [
    "# Forward-Propagation\n",
    "def training(a, b, c):\n",
    "    d = []\n",
    "    err = 0\n",
    "    \n",
    "    for position in range(len(a)):\n",
    "        # Input Layer\n",
    "        X, y = np.array( [a[position], b[position]] ), np.array([[c[position]]]).T\n",
    "        \n",
    "        # hidden layer (input ~+ prev_hidden)\n",
    "        layer_1 = sigmoid(np.dot(X,synapse_0) + np.dot(layer_1_values[-1],synapse_h)) # add previous hidden layer\n",
    "\n",
    "        # output layer (new binary representation)\n",
    "        layer_2 = sigmoid(np.dot(layer_1,synapse_1))\n",
    "\n",
    "        # Output Interpretation\n",
    "        d.append(int(np.round(layer_2[0])))\n",
    "        \n",
    "        # Loss Function\n",
    "        layer_2_error = y - layer_2\n",
    "        layer_2_deltas.append((layer_2_error)*sigmoid_output_to_derivative(layer_2))\n",
    "        err += np.abs(layer_2_error[0]) * pow(2,position)\n",
    "        \n",
    "        # Save hidden layer\n",
    "        layer_1_values.append(copy.deepcopy(layer_1))\n",
    "    \n",
    "    # return error and result\n",
    "    return d, err\n",
    "          "
   ]
  },
  {
   "cell_type": "code",
   "execution_count": 8,
   "metadata": {},
   "outputs": [],
   "source": [
    "# Back Propagation\n",
    "def bp():\n",
    "    global synapse_h, synapse_1, synapse_0\n",
    "    synapse_0_update = np.zeros((input_dim,hidden_dim))\n",
    "    synapse_1_update = np.zeros((hidden_dim, output_dim))\n",
    "    synapse_h_update = np.zeros((hidden_dim, hidden_dim))\n",
    "    \n",
    "    future_layer_1_delta = np.zeros(hidden_dim)\n",
    "    \n",
    "    for position in range(len(a)):\n",
    "        X = np.array([[a[-position],b[-position]]])\n",
    "        layer_1 = layer_1_values[-position-1]\n",
    "        prev_layer_1 = layer_1_values[-position-2]\n",
    "        \n",
    "        # error @ output layer\n",
    "        layer_2_delta = layer_2_deltas[-position-1]\n",
    "        # error @ hidden layer\n",
    "        layer_1_delta = (future_layer_1_delta.dot(synapse_h.T) + layer_2_delta.dot(synapse_1.T)) * sigmoid_output_to_derivative(layer_1)\n",
    "\n",
    "        # update\n",
    "        synapse_1_update += np.atleast_2d(layer_1).T.dot(layer_2_delta)\n",
    "        synapse_h_update += np.atleast_2d(prev_layer_1).T.dot(layer_1_delta)\n",
    "        synapse_0_update += X.T.dot(layer_1_delta)\n",
    "        \n",
    "        future_layer_1_delta = layer_1_delta\n",
    "    \n",
    "    synapse_0 += synapse_0_update * alpha\n",
    "    synapse_1 += synapse_1_update * alpha\n",
    "    synapse_h += synapse_h_update * alpha    "
   ]
  },
  {
   "cell_type": "code",
   "execution_count": 9,
   "metadata": {
    "scrolled": false
   },
   "outputs": [
    {
     "name": "stdout",
     "output_type": "stream",
     "text": [
      "------------ epoch :  0\n",
      "Error:  [36.15657911]\n",
      "       [1, 1, 0, 1, 0, 0, 0, 0]\n",
      "     + [1, 1, 0, 0, 0, 1, 1, 0]\n",
      "True:  [0, 1, 1, 1, 0, 1, 1, 0]\n",
      "Pred:  [0, 1, 1, 1, 0, 1, 1, 0]\n",
      "------------ epoch :  1\n",
      "Error:  [12.40109496]\n",
      "       [1, 1, 0, 1, 0, 0, 0, 0]\n",
      "     + [1, 1, 0, 0, 0, 1, 1, 0]\n",
      "True:  [0, 1, 1, 1, 0, 1, 1, 0]\n",
      "Pred:  [0, 1, 1, 1, 0, 1, 1, 0]\n",
      "------------ epoch :  2\n",
      "Error:  [55.36547775]\n",
      "       [1, 1, 0, 1, 0, 0, 0, 0]\n",
      "     + [1, 1, 0, 0, 0, 1, 1, 0]\n",
      "True:  [0, 1, 1, 1, 0, 1, 1, 0]\n",
      "Pred:  [0, 0, 1, 1, 0, 1, 1, 0]\n",
      "------------ epoch :  3\n",
      "Error:  [16.73510603]\n",
      "       [1, 1, 0, 1, 0, 0, 0, 0]\n",
      "     + [1, 1, 0, 0, 0, 1, 1, 0]\n",
      "True:  [0, 1, 1, 1, 0, 1, 1, 0]\n",
      "Pred:  [0, 0, 1, 1, 0, 1, 1, 0]\n",
      "------------ epoch :  4\n",
      "Error:  [8.33777275]\n",
      "       [1, 1, 0, 1, 0, 0, 0, 0]\n",
      "     + [1, 1, 0, 0, 0, 1, 1, 0]\n",
      "True:  [0, 1, 1, 1, 0, 1, 1, 0]\n",
      "Pred:  [0, 1, 1, 1, 0, 1, 1, 0]\n",
      "------------ epoch :  5\n",
      "Error:  [19.34182968]\n",
      "       [1, 1, 0, 1, 0, 0, 0, 0]\n",
      "     + [1, 1, 0, 0, 0, 1, 1, 0]\n",
      "True:  [0, 1, 1, 1, 0, 1, 1, 0]\n",
      "Pred:  [0, 1, 1, 1, 0, 1, 1, 0]\n",
      "------------ epoch :  6\n",
      "Error:  [2.36675702]\n",
      "       [1, 1, 0, 1, 0, 0, 0, 0]\n",
      "     + [1, 1, 0, 0, 0, 1, 1, 0]\n",
      "True:  [0, 1, 1, 1, 0, 1, 1, 0]\n",
      "Pred:  [0, 1, 1, 1, 0, 1, 1, 0]\n",
      "------------ epoch :  7\n",
      "Error:  [2.20503559]\n",
      "       [1, 1, 0, 1, 0, 0, 0, 0]\n",
      "     + [1, 1, 0, 0, 0, 1, 1, 0]\n",
      "True:  [0, 1, 1, 1, 0, 1, 1, 0]\n",
      "Pred:  [0, 1, 1, 1, 0, 1, 1, 0]\n",
      "------------ epoch :  8\n",
      "Error:  [20.40439167]\n",
      "       [1, 1, 0, 1, 0, 0, 0, 0]\n",
      "     + [1, 1, 0, 0, 0, 1, 1, 0]\n",
      "True:  [0, 1, 1, 1, 0, 1, 1, 0]\n",
      "Pred:  [0, 1, 1, 1, 0, 1, 1, 0]\n",
      "------------ epoch :  9\n",
      "Error:  [2.76874426]\n",
      "       [1, 1, 0, 1, 0, 0, 0, 0]\n",
      "     + [1, 1, 0, 0, 0, 1, 1, 0]\n",
      "True:  [0, 1, 1, 1, 0, 1, 1, 0]\n",
      "Pred:  [0, 1, 1, 1, 0, 1, 1, 0]\n",
      " Finished \n"
     ]
    }
   ],
   "source": [
    "# Iterate Through Dataset\n",
    "epoch = 10\n",
    "history = []\n",
    "for e in range(epoch):\n",
    "    for j in range(len(X_train)):\n",
    "        a,b = X_train[j]\n",
    "        c = y_train[j]\n",
    "\n",
    "        # initlize layer\n",
    "        layer_2_deltas = list()\n",
    "        layer_1_values = list()\n",
    "        layer_1_values.append(np.zeros(hidden_dim))\n",
    "\n",
    "        # Forward-Propagation\n",
    "        d, err = training(a, b, c)\n",
    "\n",
    "        # Back Propagation\n",
    "        bp()\n",
    "        \n",
    "        if j % 100 == 0: history.append(err)\n",
    "\n",
    "    # Print out progress\n",
    "    print(\"------------ epoch : \" , e)\n",
    "    print(\"Error: \", err)\n",
    "    print(\"      \", a)\n",
    "    print(\"     +\", b)\n",
    "    print(\"True: \", c)\n",
    "    print(\"Pred: \", d)\n",
    "\n",
    "\n",
    "print(\" Finished \")"
   ]
  },
  {
   "cell_type": "markdown",
   "metadata": {},
   "source": [
    "## Result"
   ]
  },
  {
   "cell_type": "code",
   "execution_count": 12,
   "metadata": {},
   "outputs": [
    {
     "data": {
      "text/plain": [
       "[<matplotlib.lines.Line2D at 0x10ff12978>]"
      ]
     },
     "execution_count": 12,
     "metadata": {},
     "output_type": "execute_result"
    },
    {
     "data": {
      "image/png": "[encoded data removed]",
      "text/plain": [
       "<matplotlib.figure.Figure at 0x10fa0b4e0>"
      ]
     },
     "metadata": {},
     "output_type": "display_data"
    }
   ],
   "source": [
    "# Graph Error\n",
    "import matplotlib.pyplot as plt\n",
    "\n",
    "plt.plot(history)"
   ]
  },
  {
   "cell_type": "code",
   "execution_count": 11,
   "metadata": {},
   "outputs": [
    {
     "name": "stdout",
     "output_type": "stream",
     "text": [
      "Error:  [6.78871806]\n"
     ]
    }
   ],
   "source": [
    "# Prediction and Error\n",
    "total_err = 0.0\n",
    "nTestData = len(X_test)\n",
    "for j in range(nTestData):\n",
    "    a,b = X_test[j]\n",
    "    c = y_test[j]\n",
    "\n",
    "    # initlize layer\n",
    "    layer_2_deltas = list()\n",
    "    layer_1_values = list()\n",
    "    layer_1_values.append(np.zeros(hidden_dim))\n",
    "\n",
    "    # Forward-Propagation\n",
    "    d, err = training(a, b, c)\n",
    "    \n",
    "    total_err += err/nTestData\n",
    "    \n",
    "# Print out progress\n",
    "print(\"Error: \", total_err)"
   ]
  }
 ],
 "metadata": {
  "kernelspec": {
   "display_name": "Python 3",
   "language": "python",
   "name": "python3"
  },
  "language_info": {
   "codemirror_mode": {
    "name": "ipython",
    "version": 3
   },
   "file_extension": ".py",
   "mimetype": "text/x-python",
   "name": "python",
   "nbconvert_exporter": "python",
   "pygments_lexer": "ipython3",
   "version": "3.6.3"
  }
 },
 "nbformat": 4,
 "nbformat_minor": 2
}
