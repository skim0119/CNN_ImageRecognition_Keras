{
 "cells": [
  {
   "cell_type": "markdown",
   "metadata": {},
   "source": [
    "# Households Power Consumption - LSTM  \n",
    "\n",
    "Source\n",
    "- https://archive.ics.uci.edu/ml/machine-learning-databases/00235/\n",
    "- https://data.world/databeats/household-power-consumption\n",
    "\n",
    "> Individual household electric power consumption dataset collected via submeters placed in 3 distinct areas of a home  \n",
    "__Data Set Information__  \n",
    "This household electricity consumption dataset contains 260,640 measurements gathered between January 2007 and June 2007 (6 months). It is a subset of a larger, original archive that contains 2,075,259 measurements gathered between December 2006 and November 2010 (47 months).  \n",
    "Attribute Information  \n",
    "date: Date in format dd/mm/yyyy  \n",
    "time: time in format hh:mm:ss  \n",
    "global_active_power: household global minute-averaged active power (in kilowatt)  \n",
    "global_reactive_power: household global minute-averaged reactive power (in kilowatt)  \n",
    "voltage: minute-averaged voltage (in volt)  \n",
    "global_intensity: household global minute-averaged current intensity (in ampere)  \n",
    "sub_metering_1: energy sub-metering No. 1 (in watt-hour of active energy). It corresponds to the kitchen, containing mainly a dishwasher, an oven and a microwave (hot plates are not electric but gas powered).  \n",
    "sub_metering_2: energy sub-metering No. 2 (in watt-hour of active energy). It corresponds to the laundry room, containing a washing-machine, a tumble-drier, a refrigerator and a light.\n",
    "sub_metering_3: energy sub-metering No. 3 (in watt-hour of active energy). It corresponds to an electric water-heater and an air-conditioner.\n",
    "Notes\n",
    "(global_active_power*1000/60 - sub_metering_1 - sub_metering_2 - sub_metering_3) represents the active energy consumed every minute (in watt hour) in the household by electrical equipment not measured in sub-meterings 1, 2 and 3.\n",
    "The dataset contains some missing values in the measurements (nearly 1.25% of the rows). All calendar timestamps are present in the dataset but for some timestamps, the measurement values are missing: a missing value is represented by the absence of value between two consecutive semi-colon attribute separators. For instance, the dataset shows missing values on April 28, 2007.\n",
    "Original Source\n",
    "Georges Hébrail, (georges.hebrail '@' edf.fr), Senior Researcher, EDF R&D, Clamart, France\n",
    "Alice Bérard, TELECOM ParisTech Master of Engineering Internship at EDF R&D, Clamart, France\n",
    "Provider\n",
    "This dataset was downloaded from the UCI Machine Learning Repository on 11/8/2016"
   ]
  },
  {
   "cell_type": "markdown",
   "metadata": {},
   "source": [
    "## Import Packages"
   ]
  },
  {
   "cell_type": "code",
   "execution_count": 1,
   "metadata": {},
   "outputs": [
    {
     "name": "stderr",
     "output_type": "stream",
     "text": [
      "Using TensorFlow backend.\n"
     ]
    }
   ],
   "source": [
    "%matplotlib inline\n",
    "import matplotlib.pyplot as plt\n",
    "import numpy as np\n",
    "import pandas\n",
    "import time\n",
    "import csv\n",
    "import warnings\n",
    "warnings.filterwarnings('ignore')\n",
    "\n",
    "import keras\n",
    "from keras.layers import LSTM, RNN, SimpleRNN\n",
    "from keras.layers import Dense, Activation, Dropout\n",
    "from keras.models import Sequential\n",
    "\n",
    "from sklearn import preprocessing\n",
    "from sklearn import model_selection\n",
    "\n",
    "np.random.seed(1234)"
   ]
  },
  {
   "cell_type": "markdown",
   "metadata": {},
   "source": [
    "## Prepare Dataset"
   ]
  },
  {
   "cell_type": "code",
   "execution_count": 2,
   "metadata": {},
   "outputs": [
    {
     "name": "stdout",
     "output_type": "stream",
     "text": [
      "Importing household power consumption data : ./../dataset/household_power_consumption.txt  ......\n",
      "Finished Importing: 10.67 sec\n",
      "Global_active_power      float64\n",
      "Global_reactive_power    float64\n",
      "Voltage                  float64\n",
      "Global_intensity         float64\n",
      "Sub_metering_1           float64\n",
      "Sub_metering_2           float64\n",
      "Sub_metering_3           float64\n",
      "dtype: object\n"
     ]
    },
    {
     "data": {
      "text/html": [
       "<div>\n",
       "<style scoped>\n",
       "    .dataframe tbody tr th:only-of-type {\n",
       "        vertical-align: middle;\n",
       "    }\n",
       "\n",
       "    .dataframe tbody tr th {\n",
       "        vertical-align: top;\n",
       "    }\n",
       "\n",
       "    .dataframe thead th {\n",
       "        text-align: right;\n",
       "    }\n",
       "</style>\n",
       "<table border=\"1\" class=\"dataframe\">\n",
       "  <thead>\n",
       "    <tr style=\"text-align: right;\">\n",
       "      <th></th>\n",
       "      <th>Global_active_power</th>\n",
       "      <th>Global_reactive_power</th>\n",
       "      <th>Voltage</th>\n",
       "      <th>Global_intensity</th>\n",
       "      <th>Sub_metering_1</th>\n",
       "      <th>Sub_metering_2</th>\n",
       "      <th>Sub_metering_3</th>\n",
       "    </tr>\n",
       "    <tr>\n",
       "      <th>Date_Time</th>\n",
       "      <th></th>\n",
       "      <th></th>\n",
       "      <th></th>\n",
       "      <th></th>\n",
       "      <th></th>\n",
       "      <th></th>\n",
       "      <th></th>\n",
       "    </tr>\n",
       "  </thead>\n",
       "  <tbody>\n",
       "    <tr>\n",
       "      <th>2006-12-16 17:24:00</th>\n",
       "      <td>4.216</td>\n",
       "      <td>0.418</td>\n",
       "      <td>234.84</td>\n",
       "      <td>18.4</td>\n",
       "      <td>0.0</td>\n",
       "      <td>1.0</td>\n",
       "      <td>17.0</td>\n",
       "    </tr>\n",
       "    <tr>\n",
       "      <th>2006-12-16 17:25:00</th>\n",
       "      <td>5.360</td>\n",
       "      <td>0.436</td>\n",
       "      <td>233.63</td>\n",
       "      <td>23.0</td>\n",
       "      <td>0.0</td>\n",
       "      <td>1.0</td>\n",
       "      <td>16.0</td>\n",
       "    </tr>\n",
       "    <tr>\n",
       "      <th>2006-12-16 17:26:00</th>\n",
       "      <td>5.374</td>\n",
       "      <td>0.498</td>\n",
       "      <td>233.29</td>\n",
       "      <td>23.0</td>\n",
       "      <td>0.0</td>\n",
       "      <td>2.0</td>\n",
       "      <td>17.0</td>\n",
       "    </tr>\n",
       "    <tr>\n",
       "      <th>2006-12-16 17:27:00</th>\n",
       "      <td>5.388</td>\n",
       "      <td>0.502</td>\n",
       "      <td>233.74</td>\n",
       "      <td>23.0</td>\n",
       "      <td>0.0</td>\n",
       "      <td>1.0</td>\n",
       "      <td>17.0</td>\n",
       "    </tr>\n",
       "    <tr>\n",
       "      <th>2006-12-16 17:28:00</th>\n",
       "      <td>3.666</td>\n",
       "      <td>0.528</td>\n",
       "      <td>235.68</td>\n",
       "      <td>15.8</td>\n",
       "      <td>0.0</td>\n",
       "      <td>1.0</td>\n",
       "      <td>17.0</td>\n",
       "    </tr>\n",
       "  </tbody>\n",
       "</table>\n",
       "</div>"
      ],
      "text/plain": [
       "                     Global_active_power  Global_reactive_power  Voltage  \\\n",
       "Date_Time                                                                  \n",
       "2006-12-16 17:24:00                4.216                  0.418   234.84   \n",
       "2006-12-16 17:25:00                5.360                  0.436   233.63   \n",
       "2006-12-16 17:26:00                5.374                  0.498   233.29   \n",
       "2006-12-16 17:27:00                5.388                  0.502   233.74   \n",
       "2006-12-16 17:28:00                3.666                  0.528   235.68   \n",
       "\n",
       "                     Global_intensity  Sub_metering_1  Sub_metering_2  \\\n",
       "Date_Time                                                               \n",
       "2006-12-16 17:24:00              18.4             0.0             1.0   \n",
       "2006-12-16 17:25:00              23.0             0.0             1.0   \n",
       "2006-12-16 17:26:00              23.0             0.0             2.0   \n",
       "2006-12-16 17:27:00              23.0             0.0             1.0   \n",
       "2006-12-16 17:28:00              15.8             0.0             1.0   \n",
       "\n",
       "                     Sub_metering_3  \n",
       "Date_Time                            \n",
       "2006-12-16 17:24:00            17.0  \n",
       "2006-12-16 17:25:00            16.0  \n",
       "2006-12-16 17:26:00            17.0  \n",
       "2006-12-16 17:27:00            17.0  \n",
       "2006-12-16 17:28:00            17.0  "
      ]
     },
     "execution_count": 2,
     "metadata": {},
     "output_type": "execute_result"
    }
   ],
   "source": [
    "path_to_dataset = './../dataset/household_power_consumption.txt'\n",
    "\n",
    "def import_data(n_dataset = 10000, ratio = 1.0):\n",
    "    stime_read = time.time()\n",
    "    print('Importing household power consumption data : ' + path_to_dataset + '  ......')\n",
    "    data = pandas.read_csv(path_to_dataset,\n",
    "                            #nrows = n_dataset,\n",
    "                            index_col=0,\n",
    "                            delimiter=\";\", \n",
    "                            parse_dates=[[0,1]],\n",
    "                            #low_memory = False,\n",
    "                            #dtype = {'Global_active_power':np.float64,'Global_reactive_power':np.float64,'Voltage':np.float64,'Global_intensity':np.float64,'Sub_metering_1':np.int64,'Sub_metering_2':np.int64,'Sub_metering_3':np.int64},\n",
    "                            infer_datetime_format=True)\n",
    "    ftime_read = time.time()\n",
    "    print('Finished Importing: %.2f sec' % (ftime_read - stime_read))\n",
    "    return data.infer_objects()\n",
    "data = import_data().convert_objects(convert_numeric=True)\n",
    "print(data.dtypes)\n",
    "data.head()"
   ]
  },
  {
   "cell_type": "code",
   "execution_count": 3,
   "metadata": {
    "scrolled": true
   },
   "outputs": [
    {
     "name": "stdout",
     "output_type": "stream",
     "text": [
      "(691753, 4)\n"
     ]
    },
    {
     "data": {
      "text/html": [
       "<div>\n",
       "<style scoped>\n",
       "    .dataframe tbody tr th:only-of-type {\n",
       "        vertical-align: middle;\n",
       "    }\n",
       "\n",
       "    .dataframe tbody tr th {\n",
       "        vertical-align: top;\n",
       "    }\n",
       "\n",
       "    .dataframe thead th {\n",
       "        text-align: right;\n",
       "    }\n",
       "</style>\n",
       "<table border=\"1\" class=\"dataframe\">\n",
       "  <thead>\n",
       "    <tr style=\"text-align: right;\">\n",
       "      <th></th>\n",
       "      <th>Global_active_power</th>\n",
       "      <th>Global_reactive_power</th>\n",
       "      <th>Voltage</th>\n",
       "      <th>Global_intensity</th>\n",
       "    </tr>\n",
       "    <tr>\n",
       "      <th>Date_Time</th>\n",
       "      <th></th>\n",
       "      <th></th>\n",
       "      <th></th>\n",
       "      <th></th>\n",
       "    </tr>\n",
       "  </thead>\n",
       "  <tbody>\n",
       "    <tr>\n",
       "      <th>2006-12-16 17:24:00</th>\n",
       "      <td>3.734962</td>\n",
       "      <td>2.994011</td>\n",
       "      <td>-2.152105</td>\n",
       "      <td>3.845956</td>\n",
       "    </tr>\n",
       "    <tr>\n",
       "      <th>2006-12-16 17:27:00</th>\n",
       "      <td>2.974856</td>\n",
       "      <td>3.604506</td>\n",
       "      <td>-1.874272</td>\n",
       "      <td>3.038946</td>\n",
       "    </tr>\n",
       "    <tr>\n",
       "      <th>2006-12-16 17:30:00</th>\n",
       "      <td>2.493712</td>\n",
       "      <td>3.598401</td>\n",
       "      <td>-1.888785</td>\n",
       "      <td>2.551695</td>\n",
       "    </tr>\n",
       "    <tr>\n",
       "      <th>2006-12-16 17:33:00</th>\n",
       "      <td>3.278131</td>\n",
       "      <td>3.378623</td>\n",
       "      <td>-2.386397</td>\n",
       "      <td>3.404385</td>\n",
       "    </tr>\n",
       "    <tr>\n",
       "      <th>2006-12-16 17:36:00</th>\n",
       "      <td>3.605718</td>\n",
       "      <td>2.829178</td>\n",
       "      <td>-2.216380</td>\n",
       "      <td>3.708917</td>\n",
       "    </tr>\n",
       "  </tbody>\n",
       "</table>\n",
       "</div>"
      ],
      "text/plain": [
       "                     Global_active_power  Global_reactive_power   Voltage  \\\n",
       "Date_Time                                                                   \n",
       "2006-12-16 17:24:00             3.734962               2.994011 -2.152105   \n",
       "2006-12-16 17:27:00             2.974856               3.604506 -1.874272   \n",
       "2006-12-16 17:30:00             2.493712               3.598401 -1.888785   \n",
       "2006-12-16 17:33:00             3.278131               3.378623 -2.386397   \n",
       "2006-12-16 17:36:00             3.605718               2.829178 -2.216380   \n",
       "\n",
       "                     Global_intensity  \n",
       "Date_Time                              \n",
       "2006-12-16 17:24:00          3.845956  \n",
       "2006-12-16 17:27:00          3.038946  \n",
       "2006-12-16 17:30:00          2.551695  \n",
       "2006-12-16 17:33:00          3.404385  \n",
       "2006-12-16 17:36:00          3.708917  "
      ]
     },
     "execution_count": 3,
     "metadata": {},
     "output_type": "execute_result"
    }
   ],
   "source": [
    "# Regroup data by 'Day'\n",
    "df_ave = data[['Global_active_power','Global_reactive_power','Voltage','Global_intensity']].resample('3T', how = 'mean')\n",
    "\n",
    "# Normalization\n",
    "normalized_df=(df_ave-df_ave.mean())/df_ave.std() # mean/std normalization\n",
    "#normalized_df=(df_ave-df_ave.min())/(df_ave.max()-df_ave.min()) # min/max normalization\n",
    "\n",
    "print(normalized_df.shape)\n",
    "normalized_df.head()"
   ]
  },
  {
   "cell_type": "markdown",
   "metadata": {},
   "source": [
    "### Visualize Data"
   ]
  },
  {
   "cell_type": "code",
   "execution_count": 4,
   "metadata": {
    "scrolled": false
   },
   "outputs": [
    {
     "data": {
      "image/png": "[encoded data removed]",
      "text/plain": [
       "<matplotlib.figure.Figure at 0xae68e1a208>"
      ]
     },
     "metadata": {},
     "output_type": "display_data"
    },
    {
     "data": {
      "image/png": "[encoded data removed]",
      "text/plain": [
       "<matplotlib.figure.Figure at 0xae69fa6c88>"
      ]
     },
     "metadata": {},
     "output_type": "display_data"
    },
    {
     "data": {
      "image/png": "[encoded data removed]",
      "text/plain": [
       "<matplotlib.figure.Figure at 0xae07f52a58>"
      ]
     },
     "metadata": {},
     "output_type": "display_data"
    },
    {
     "data": {
      "image/png": "[encoded data removed]",
      "text/plain": [
       "<matplotlib.figure.Figure at 0xae00aa1390>"
      ]
     },
     "metadata": {},
     "output_type": "display_data"
    }
   ],
   "source": [
    "for column in normalized_df:\n",
    "    plt.figure()\n",
    "    normalized_df[column].plot(title=column)"
   ]
  },
  {
   "cell_type": "code",
   "execution_count": 5,
   "metadata": {},
   "outputs": [
    {
     "name": "stdout",
     "output_type": "stream",
     "text": [
      "(691722, 30, 1) (691722,)\n"
     ]
    }
   ],
   "source": [
    "def get_Xy(data, D=30): # Collect data by D-days. (30 - month, 7 - week)\n",
    "    # make X and y\n",
    "    X_l = []\n",
    "    y_l = []\n",
    "    N = len(data)\n",
    "    assert N > D, \"N should be larger than D, where N is len(data)\"\n",
    "    for ii in range(N-D-1):\n",
    "        X_l.append(data[ii:ii+D])\n",
    "        y_l.append(data[ii+D])\n",
    "    X = np.array(X_l)\n",
    "    X = X.reshape(X.shape[0], X.shape[1], 1)\n",
    "    y = np.array(y_l)\n",
    "    print(X.shape, y.shape)\n",
    "    return X, y\n",
    "\n",
    "X, y = get_Xy(normalized_df.values.T[0], D=30) # Grouping\n",
    "X_train, X_test, y_train, y_test = model_selection.train_test_split(X, y, test_size=0.2, random_state=42, shuffle=False)"
   ]
  },
  {
   "cell_type": "markdown",
   "metadata": {},
   "source": [
    "## Model"
   ]
  },
  {
   "cell_type": "code",
   "execution_count": 6,
   "metadata": {},
   "outputs": [
    {
     "name": "stdout",
     "output_type": "stream",
     "text": [
      "_________________________________________________________________\n",
      "Layer (type)                 Output Shape              Param #   \n",
      "=================================================================\n",
      "lstm_1 (LSTM)                (None, None, 50)          10400     \n",
      "_________________________________________________________________\n",
      "dropout_1 (Dropout)          (None, None, 50)          0         \n",
      "_________________________________________________________________\n",
      "lstm_2 (LSTM)                (None, 100)               60400     \n",
      "_________________________________________________________________\n",
      "dropout_2 (Dropout)          (None, 100)               0         \n",
      "_________________________________________________________________\n",
      "dense_1 (Dense)              (None, 1)                 101       \n",
      "=================================================================\n",
      "Total params: 70,901\n",
      "Trainable params: 70,901\n",
      "Non-trainable params: 0\n",
      "_________________________________________________________________\n"
     ]
    }
   ],
   "source": [
    "# Define Model\n",
    "model = Sequential()\n",
    "\n",
    "model.add(LSTM(50,\n",
    "            input_shape = (None,1),\n",
    "            return_sequences=True))\n",
    "model.add(Dropout(0.2))\n",
    "\n",
    "model.add(LSTM(100, return_sequences=False))\n",
    "model.add(Dropout(0.2))\n",
    "\n",
    "model.add(Dense(1, activation = \"linear\"))\n",
    "\n",
    "# Set Compiling\n",
    "model.compile(loss=\"mean_squared_error\",\n",
    "              optimizer=\"adam\")\n",
    "\n",
    "model.summary()"
   ]
  },
  {
   "cell_type": "markdown",
   "metadata": {},
   "source": [
    "## Training"
   ]
  },
  {
   "cell_type": "code",
   "execution_count": 7,
   "metadata": {},
   "outputs": [
    {
     "name": "stdout",
     "output_type": "stream",
     "text": [
      "Data Loaded. Compiling...\n",
      "Train on 553377 samples, validate on 138345 samples\n",
      "Epoch 1/10\n",
      "553377/553377 [==============================] - 244s 440us/step - loss: nan - val_loss: nan\n",
      "Epoch 2/10\n",
      "553377/553377 [==============================] - 231s 418us/step - loss: nan - val_loss: nan\n",
      "Epoch 3/10\n",
      "553377/553377 [==============================] - 231s 417us/step - loss: nan - val_loss: nan\n",
      "Epoch 4/10\n",
      "553377/553377 [==============================] - 231s 417us/step - loss: nan - val_loss: nan\n",
      "Epoch 5/10\n",
      "553377/553377 [==============================] - 231s 418us/step - loss: nan - val_loss: nan\n",
      "Epoch 6/10\n",
      "553377/553377 [==============================] - 231s 417us/step - loss: nan - val_loss: nan\n",
      "Epoch 7/10\n",
      "553377/553377 [==============================] - 231s 418us/step - loss: nan - val_loss: nan\n",
      "Epoch 8/10\n",
      "553377/553377 [==============================] - 231s 417us/step - loss: nan - val_loss: nan\n",
      "Epoch 9/10\n",
      "553377/553377 [==============================] - 231s 417us/step - loss: nan - val_loss: nan\n",
      "Epoch 10/10\n",
      "553377/553377 [==============================] - 231s 418us/step - loss: nan - val_loss: nan\n",
      "Total Training Duration (s) :  2418.8476552963257\n"
     ]
    }
   ],
   "source": [
    "epochs = 10\n",
    "global_start_time = time.time()\n",
    "print('Data Loaded. Compiling...')\n",
    "\n",
    "try:\n",
    "    history = model.fit(\n",
    "        X_train, y_train,\n",
    "        batch_size=256,\n",
    "        nb_epoch=epochs,\n",
    "        validation_data=[X_test, y_test],\n",
    "        verbose = 1)\n",
    "    predicted = model.predict(X_test)\n",
    "    predicted = np.reshape(predicted, (predicted.size,))\n",
    "except KeyboardInterrupt:\n",
    "    print('Training duration (s) : ', time.time() - global_start_time)\n",
    "print('Total Training Duration (s) : ', time.time() - global_start_time)"
   ]
  },
  {
   "cell_type": "markdown",
   "metadata": {},
   "source": [
    "## Result and Analysis"
   ]
  },
  {
   "cell_type": "code",
   "execution_count": 9,
   "metadata": {
    "scrolled": false
   },
   "outputs": [
    {
     "name": "stdout",
     "output_type": "stream",
     "text": [
      "138345/138345 [==============================] - 110s 796us/step\n",
      "138345/138345 [==============================] - 111s 804us/step\n",
      "Loss: nan\n",
      "predict shape:  (138345, 1) test shape:  (138345,)\n"
     ]
    },
    {
     "data": {
      "image/png": "[encoded data removed]",
      "text/plain": [
       "<matplotlib.figure.Figure at 0xae6a0e74e0>"
      ]
     },
     "metadata": {},
     "output_type": "display_data"
    }
   ],
   "source": [
    "# Prediction Result\n",
    "ypredict = model.predict(X_test, verbose=1)\n",
    "\n",
    "print('Loss:', model.evaluate(X_test, y_test))\n",
    "print('predict shape: ', ypredict.shape, 'test shape: ', y_test.shape)\n",
    "\n",
    "plt.plot(ypredict, label='Train')\n",
    "plt.plot(y_test  , label='Predict')\n",
    "plt.legend(loc=0)\n",
    "plt.title('Results')\n",
    "plt.show()"
   ]
  }
 ],
 "metadata": {
  "kernelspec": {
   "display_name": "Python 3",
   "language": "python",
   "name": "python3"
  },
  "language_info": {
   "codemirror_mode": {
    "name": "ipython",
    "version": 3
   },
   "file_extension": ".py",
   "mimetype": "text/x-python",
   "name": "python",
   "nbconvert_exporter": "python",
   "pygments_lexer": "ipython3",
   "version": "3.6.4"
  }
 },
 "nbformat": 4,
 "nbformat_minor": 2
}
