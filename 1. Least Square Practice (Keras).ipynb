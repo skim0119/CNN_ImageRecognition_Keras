{
 "cells": [
  {
   "cell_type": "markdown",
   "metadata": {},
   "source": [
    "# Simple Polynomial Model"
   ]
  },
  {
   "cell_type": "code",
   "execution_count": 1,
   "metadata": {},
   "outputs": [],
   "source": [
    "# Settings\n",
    "degree = 4 # Polynomial degree"
   ]
  },
  {
   "cell_type": "markdown",
   "metadata": {},
   "source": [
    "## Implementation of Single Node Model (Linear Equation)\n",
    "For this example, we are given 12 data (for each month), and we expect the graph to fit to 4-degree polynomial equation\n",
    "### Model\n",
    "$$\n",
    "y_n = (n^0, n^1, n^2, n^3, n^4)\\cdot\n",
    "\\begin{pmatrix}\n",
    "w_0 \\\\ w_1 \\\\ w_2 \\\\ w_3 \\\\ w_4\n",
    "\\end{pmatrix}\n",
    "= \\sum_{m=0}^{4}w_mn^m \\\\\n",
    "\\textbf{y} = \\textbf{Xw} \\\\\n",
    "$$"
   ]
  },
  {
   "cell_type": "code",
   "execution_count": 2,
   "metadata": {},
   "outputs": [
    {
     "name": "stderr",
     "output_type": "stream",
     "text": [
      "/Library/Frameworks/Python.framework/Versions/3.6/lib/python3.6/site-packages/h5py/__init__.py:34: FutureWarning: Conversion of the second argument of issubdtype from `float` to `np.floating` is deprecated. In future, it will be treated as `np.float64 == np.dtype(float).type`.\n",
      "  from ._conv import register_converters as _register_converters\n",
      "Using TensorFlow backend.\n",
      "/Library/Frameworks/Python.framework/Versions/3.6/lib/python3.6/importlib/_bootstrap.py:219: RuntimeWarning: compiletime version 3.5 of module 'tensorflow.python.framework.fast_tensor_util' does not match runtime version 3.6\n",
      "  return f(*args, **kwds)\n"
     ]
    }
   ],
   "source": [
    "import keras\n",
    "from keras.models import Sequential\n",
    "from keras.layers import Dense"
   ]
  },
  {
   "cell_type": "code",
   "execution_count": 3,
   "metadata": {},
   "outputs": [],
   "source": [
    "# Build Layers\n",
    "model = Sequential()\n",
    "model.add(Dense(1, input_dim=degree+1, \\\n",
    "                kernel_initializer='random_uniform', \\\n",
    "                bias_initializer='zeros'))"
   ]
  },
  {
   "cell_type": "markdown",
   "metadata": {},
   "source": [
    "## Setting Optimizer for Training\n",
    "### Mean Square Error\n",
    "$$\n",
    "E = \\frac{1}{2} \\sum_{n=1}^{12}(y_n - t_n)^2 \\\\\n",
    "E(\\textbf{w}) = \\frac{1}{2} \\sum_{n=1}^{12}\\left(\\sum_{m=0}^{4}w_mn^m - t_n\\right)^2 \n",
    "$$\n",
    "### Gradient Descent Method (Adam Optimizer)\n",
    "One of the key criteria of local minimum of function is the gradient $\\frac{\\partial E}{\\partial w_m} = 0$.  \n",
    "The gradient of function represent the direction where the maximum slope along the surface is.  \n",
    "Gradient descent method suggest the discrete approach to local minima by moving in the opposite gradient direction from any point along the surface.  \n",
    "$$\n",
    "\\textbf{w}^{\\text{new}}=\\textbf{w}-\\epsilon\\nabla E\n",
    "$$\n",
    "- $\\epsilon$ represent the rate of learning"
   ]
  },
  {
   "cell_type": "code",
   "execution_count": 4,
   "metadata": {},
   "outputs": [],
   "source": [
    "# Build Compiler\n",
    "model.compile(optimizer='Adam',\n",
    "              loss='mean_squared_error')"
   ]
  },
  {
   "cell_type": "markdown",
   "metadata": {},
   "source": [
    "## Prepare Data\n",
    "$$\n",
    "\\textbf{X} =\n",
    "\\begin{pmatrix}\n",
    "1^0 & 1^1 & 1^2 & 1^3 & 1^4 & \\dots \\\\\n",
    "2^0 & 2^1 & 2^2 & 2^3 & 2^4 \\\\\n",
    "3^0 & 3^1 & 3^2 & 3^3 & 3^4 \\\\\n",
    "4^0 & 4^1 & 4^2 & 4^3 & 4^4 \\\\\n",
    "\\vdots\n",
    "\\end{pmatrix}\n",
    ", \\quad\n",
    "\\textbf{w} =\n",
    "\\begin{pmatrix}\n",
    "w_0 \\\\ w_1 \\\\ w_2 \\\\ w_3 \\\\ w_4 \\\\ \\vdots\n",
    "\\end{pmatrix}\n",
    "$$"
   ]
  },
  {
   "cell_type": "code",
   "execution_count": 6,
   "metadata": {},
   "outputs": [],
   "source": [
    "import numpy as np\n",
    "import math\n",
    "import matplotlib.pyplot as plt"
   ]
  },
  {
   "cell_type": "code",
   "execution_count": 33,
   "metadata": {},
   "outputs": [
    {
     "data": {
      "text/plain": [
       "<matplotlib.collections.PathCollection at 0x11f736978>"
      ]
     },
     "execution_count": 33,
     "metadata": {},
     "output_type": "execute_result"
    },
    {
     "data": {
      "image/png": "[encoded data removed]",
      "text/plain": [
       "<matplotlib.figure.Figure at 0x11f6ad278>"
      ]
     },
     "metadata": {},
     "output_type": "display_data"
    }
   ],
   "source": [
    "polyar = np.poly(np.random.random(degree-1)*8+1)\n",
    "val = np.polyval(polyar, range(1,10))\n",
    "target = np.array(val)\n",
    "\n",
    "fig = plt.figure()\n",
    "subplot = fig.add_subplot(1,1,1)\n",
    "subplot.set_xlim(0,10)\n",
    "subplot.scatter(range(1,10), val)"
   ]
  },
  {
   "cell_type": "markdown",
   "metadata": {},
   "source": [
    "## Training"
   ]
  },
  {
   "cell_type": "code",
   "execution_count": 38,
   "metadata": {},
   "outputs": [],
   "source": [
    "x = np.array([[m**p for p in range(0,degree+1)] for m in range(1,10)])"
   ]
  },
  {
   "cell_type": "code",
   "execution_count": 45,
   "metadata": {},
   "outputs": [
    {
     "data": {
      "text/plain": [
       "<keras.callbacks.History at 0x1205513c8>"
      ]
     },
     "execution_count": 45,
     "metadata": {},
     "output_type": "execute_result"
    }
   ],
   "source": [
    "model.fit(x, target, epochs=6000, verbose=0) # Repeat this line to train"
   ]
  },
  {
   "cell_type": "code",
   "execution_count": 46,
   "metadata": {},
   "outputs": [],
   "source": [
    "y = model.predict(x)"
   ]
  },
  {
   "cell_type": "code",
   "execution_count": 47,
   "metadata": {},
   "outputs": [
    {
     "data": {
      "text/plain": [
       "[<matplotlib.lines.Line2D at 0x1204f6588>]"
      ]
     },
     "execution_count": 47,
     "metadata": {},
     "output_type": "execute_result"
    },
    {
     "data": {
      "image/png": "[encoded data removed]",
      "text/plain": [
       "<matplotlib.figure.Figure at 0x1205875c0>"
      ]
     },
     "metadata": {},
     "output_type": "display_data"
    }
   ],
   "source": [
    "fig = plt.figure()\n",
    "subplot = fig.add_subplot(1,1,1)\n",
    "subplot.set_xlim(0,10)\n",
    "subplot.scatter(range(1,10), val)\n",
    "subplot.plot(range(1,10), y)"
   ]
  },
  {
   "cell_type": "markdown",
   "metadata": {},
   "source": [
    "## Notes:\n",
    "- When building layers of NN, it is often important to initialize bias and kernel weights."
   ]
  }
 ],
 "metadata": {
  "kernelspec": {
   "display_name": "Python 3",
   "language": "python",
   "name": "python3"
  },
  "language_info": {
   "codemirror_mode": {
    "name": "ipython",
    "version": 3
   },
   "file_extension": ".py",
   "mimetype": "text/x-python",
   "name": "python",
   "nbconvert_exporter": "python",
   "pygments_lexer": "ipython3",
   "version": "3.6.3"
  }
 },
 "nbformat": 4,
 "nbformat_minor": 1
}
