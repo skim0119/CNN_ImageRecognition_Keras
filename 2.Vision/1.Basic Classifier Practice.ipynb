{
 "cells": [
  {
   "cell_type": "markdown",
   "metadata": {},
   "source": [
    "# Classifier Practice"
   ]
  },
  {
   "cell_type": "code",
   "execution_count": 40,
   "metadata": {},
   "outputs": [],
   "source": [
    "# Settings\n",
    "NPROPERTY = 2"
   ]
  },
  {
   "cell_type": "markdown",
   "metadata": {},
   "source": [
    "## Implementation of Binary Classifier\n",
    "- Problem: Given the organized data with n-properties into two different categories. Create a classifier model with n-properties as an input.\n",
    "    - Input: N-properties\n",
    "    - Output: binary (2-type)\n",
    "    \n",
    "### Model\n",
    "- For simplicity, lets model the simplest linear classifier $f(x_1, x_2, \\dots)=w_0 + w_1x_1 + w_2x_2 + \\dots=0$. \n",
    "- Note, the value of $f$ represent the distance from the boundary line.\n",
    "- Instead of strictly determining the type of the data with this linear function, lets assume the distance from the line is proportional to the percentage of the data belong to the category.\n",
    "- By using sigmoid function, it is possible to represent the distance as the probability. \n",
    "$$\n",
    "f(x_1, x_2, \\dots) = w_0+w_1x_1+w_2x_2+\\dots \\\\\n",
    "f(x_1, x_2, \\dots) = (1, x_1, x_2, \\dots) \\cdot \n",
    "\\begin{pmatrix}\n",
    "w_0 \\\\ w_1 \\\\ w_2 \\\\ \\vdots\n",
    "\\end{pmatrix}\\\\\n",
    "f = w_0 + \\textbf{Xw}\\\\\n",
    "P(x_1, x_2, \\dots) = \\sigma(f(x_1,x_2)) \\\\\n",
    "$$\n",
    "- The function $P$ represent the probability that the point $(x_1,x_2, \\dots)$ is type-1. By same logic, the probability that this point is type-0 is $1-P$."
   ]
  },
  {
   "cell_type": "code",
   "execution_count": 41,
   "metadata": {
    "scrolled": true
   },
   "outputs": [],
   "source": [
    "import keras\n",
    "from keras.models import Sequential\n",
    "from keras.layers import Dense\n",
    "from keras.utils import plot_model"
   ]
  },
  {
   "cell_type": "code",
   "execution_count": 99,
   "metadata": {},
   "outputs": [],
   "source": [
    "# Build Layers\n",
    "model = Sequential()\n",
    "model.add(Dense(1, input_dim = NPROPERTY,\n",
    "                    activation='sigmoid',\n",
    "                    kernel_initializer='random_uniform',\n",
    "                    bias_initializer='random_uniform'))"
   ]
  },
  {
   "cell_type": "markdown",
   "metadata": {},
   "source": [
    "## Setting Optimizer for Training\n",
    "### Gradient Descent Method\n",
    "One of the key criteria of local minimum of function is the gradient $\\frac{\\partial E}{\\partial w_m} = 0$.  \n",
    "The gradient of function represent the direction where the maximum slope along the surface is.  \n",
    "Gradient descent method suggest the discrete approach to local minima by moving in the opposite gradient direction from any point along the surface.  \n",
    "$$\n",
    "\\textbf{w}^{\\text{new}}=\\textbf{w}-\\epsilon\\nabla E\n",
    "$$\n",
    "- $\\epsilon$ represent the rate of learning\n",
    "\n",
    "### Error Function\n",
    "- In order to calculate the error with given data, we need to consider the probability of guessing the result correctly. By maximizing this value, we can move the point $\\vec{w}$ to the best value.\n",
    "- Given nth data $(x_{n_1}, x_{n_2}, \\dots, t_n)$:\n",
    "$$\n",
    "\\text{Probability of guessing correct answer : }\n",
    "P_n=\n",
    "\\begin{cases}\n",
    "P,& t_n=1\\\\\n",
    "1-P,& t_n=0\n",
    "\\end{cases}\\\\\n",
    "\\begin{aligned}\n",
    "E &= -\\log \\prod_{n=1}^{N}P_n \\\\\n",
    "&=  -\\log \\prod_{n=1}^{N} P(x_1,x_2) \\left(1-P(x_1,x_2) \\right)^{(1-t_n)}\\\\\n",
    "&= -\\sum_{n=1}^{N} \\left[ t_n \\log P(x_1,x_2) + (1-t_n)\\log (1-P(x_1,x_2))\\right]\n",
    "\\end{aligned}\n",
    "$$\n",
    "- Note, the negative is to reverse the maximizing problem to minimizing problem, and logarithm is due to the floating point error."
   ]
  },
  {
   "cell_type": "code",
   "execution_count": 100,
   "metadata": {},
   "outputs": [],
   "source": [
    "# Build Compiler\n",
    "model.compile(optimizer='Adam',\n",
    "             loss='binary_crossentropy',\n",
    "             metrics=['accuracy'])"
   ]
  },
  {
   "cell_type": "markdown",
   "metadata": {},
   "source": [
    "## Prepare Data"
   ]
  },
  {
   "cell_type": "code",
   "execution_count": 101,
   "metadata": {},
   "outputs": [],
   "source": [
    "import numpy as np\n",
    "import math\n",
    "import matplotlib.pyplot as plt\n",
    "from numpy.random import multivariate_normal, permutation\n",
    "import pandas as pd\n",
    "from pandas import DataFrame, Series"
   ]
  },
  {
   "cell_type": "code",
   "execution_count": 102,
   "metadata": {},
   "outputs": [],
   "source": [
    "# Example Data Creation\n",
    "np.random.seed(20121283)\n",
    "\n",
    "n0, mu0, variance0 = 30, [10, 11], 20\n",
    "data0 = multivariate_normal(mu0, np.eye(2)*variance0 ,n0)\n",
    "df0 = DataFrame(data0, columns=['x1','x2'])\n",
    "df0['t'] = 0\n",
    "\n",
    "n1, mu1, variance1 = 40, [16, 19], 17\n",
    "data1 = multivariate_normal(mu1, np.eye(2)*variance1 ,n1)\n",
    "df1 = DataFrame(data1, columns=['x1','x2'])\n",
    "df1['t'] = 1\n",
    "\n",
    "df = pd.concat([df0, df1], ignore_index=True)\n",
    "train_set = df.reindex(permutation(df.index)).reset_index(drop=True)\n",
    "\n",
    "# Extract data separately for t=0 and t=1\n",
    "train_set0 = train_set[train_set['t']==0]\n",
    "train_set1 = train_set[train_set['t']==1]"
   ]
  },
  {
   "cell_type": "code",
   "execution_count": 103,
   "metadata": {},
   "outputs": [],
   "source": [
    "train_x = train_set[['x1','x2']].as_matrix()\n",
    "train_t = train_set['t'].as_matrix().reshape([len(train_set), 1])"
   ]
  },
  {
   "cell_type": "code",
   "execution_count": 104,
   "metadata": {},
   "outputs": [
    {
     "data": {
      "text/html": [
       "<div>\n",
       "<style scoped>\n",
       "    .dataframe tbody tr th:only-of-type {\n",
       "        vertical-align: middle;\n",
       "    }\n",
       "\n",
       "    .dataframe tbody tr th {\n",
       "        vertical-align: top;\n",
       "    }\n",
       "\n",
       "    .dataframe thead th {\n",
       "        text-align: right;\n",
       "    }\n",
       "</style>\n",
       "<table border=\"1\" class=\"dataframe\">\n",
       "  <thead>\n",
       "    <tr style=\"text-align: right;\">\n",
       "      <th></th>\n",
       "      <th>0</th>\n",
       "      <th>1</th>\n",
       "      <th>2</th>\n",
       "      <th>3</th>\n",
       "      <th>4</th>\n",
       "      <th>5</th>\n",
       "      <th>6</th>\n",
       "      <th>7</th>\n",
       "      <th>8</th>\n",
       "      <th>9</th>\n",
       "      <th>...</th>\n",
       "      <th>60</th>\n",
       "      <th>61</th>\n",
       "      <th>62</th>\n",
       "      <th>63</th>\n",
       "      <th>64</th>\n",
       "      <th>65</th>\n",
       "      <th>66</th>\n",
       "      <th>67</th>\n",
       "      <th>68</th>\n",
       "      <th>69</th>\n",
       "    </tr>\n",
       "  </thead>\n",
       "  <tbody>\n",
       "    <tr>\n",
       "      <th>x1</th>\n",
       "      <td>12.595063</td>\n",
       "      <td>15.542943</td>\n",
       "      <td>8.258262</td>\n",
       "      <td>20.981374</td>\n",
       "      <td>6.053343</td>\n",
       "      <td>23.706379</td>\n",
       "      <td>21.424257</td>\n",
       "      <td>9.931085</td>\n",
       "      <td>12.110654</td>\n",
       "      <td>15.104998</td>\n",
       "      <td>...</td>\n",
       "      <td>12.864251</td>\n",
       "      <td>15.368529</td>\n",
       "      <td>15.205629</td>\n",
       "      <td>10.947875</td>\n",
       "      <td>14.088058</td>\n",
       "      <td>19.490715</td>\n",
       "      <td>8.080096</td>\n",
       "      <td>10.451796</td>\n",
       "      <td>21.325461</td>\n",
       "      <td>9.759405</td>\n",
       "    </tr>\n",
       "    <tr>\n",
       "      <th>x2</th>\n",
       "      <td>8.243820</td>\n",
       "      <td>0.689499</td>\n",
       "      <td>14.120903</td>\n",
       "      <td>15.867654</td>\n",
       "      <td>17.489436</td>\n",
       "      <td>23.327626</td>\n",
       "      <td>20.504934</td>\n",
       "      <td>12.160047</td>\n",
       "      <td>21.429381</td>\n",
       "      <td>19.158264</td>\n",
       "      <td>...</td>\n",
       "      <td>-4.160881</td>\n",
       "      <td>19.774432</td>\n",
       "      <td>21.544779</td>\n",
       "      <td>6.292905</td>\n",
       "      <td>17.141737</td>\n",
       "      <td>13.944367</td>\n",
       "      <td>7.417540</td>\n",
       "      <td>12.680346</td>\n",
       "      <td>4.903620</td>\n",
       "      <td>20.653293</td>\n",
       "    </tr>\n",
       "    <tr>\n",
       "      <th>t</th>\n",
       "      <td>0.000000</td>\n",
       "      <td>0.000000</td>\n",
       "      <td>0.000000</td>\n",
       "      <td>1.000000</td>\n",
       "      <td>0.000000</td>\n",
       "      <td>1.000000</td>\n",
       "      <td>1.000000</td>\n",
       "      <td>0.000000</td>\n",
       "      <td>1.000000</td>\n",
       "      <td>1.000000</td>\n",
       "      <td>...</td>\n",
       "      <td>0.000000</td>\n",
       "      <td>1.000000</td>\n",
       "      <td>1.000000</td>\n",
       "      <td>0.000000</td>\n",
       "      <td>0.000000</td>\n",
       "      <td>1.000000</td>\n",
       "      <td>0.000000</td>\n",
       "      <td>0.000000</td>\n",
       "      <td>0.000000</td>\n",
       "      <td>1.000000</td>\n",
       "    </tr>\n",
       "  </tbody>\n",
       "</table>\n",
       "<p>3 rows × 70 columns</p>\n",
       "</div>"
      ],
      "text/plain": [
       "           0          1          2          3          4          5   \\\n",
       "x1  12.595063  15.542943   8.258262  20.981374   6.053343  23.706379   \n",
       "x2   8.243820   0.689499  14.120903  15.867654  17.489436  23.327626   \n",
       "t    0.000000   0.000000   0.000000   1.000000   0.000000   1.000000   \n",
       "\n",
       "           6          7          8          9     ...             60  \\\n",
       "x1  21.424257   9.931085  12.110654  15.104998    ...      12.864251   \n",
       "x2  20.504934  12.160047  21.429381  19.158264    ...      -4.160881   \n",
       "t    1.000000   0.000000   1.000000   1.000000    ...       0.000000   \n",
       "\n",
       "           61         62         63         64         65        66  \\\n",
       "x1  15.368529  15.205629  10.947875  14.088058  19.490715  8.080096   \n",
       "x2  19.774432  21.544779   6.292905  17.141737  13.944367  7.417540   \n",
       "t    1.000000   1.000000   0.000000   0.000000   1.000000  0.000000   \n",
       "\n",
       "           67         68         69  \n",
       "x1  10.451796  21.325461   9.759405  \n",
       "x2  12.680346   4.903620  20.653293  \n",
       "t    0.000000   0.000000   1.000000  \n",
       "\n",
       "[3 rows x 70 columns]"
      ]
     },
     "execution_count": 104,
     "metadata": {},
     "output_type": "execute_result"
    },
    {
     "data": {
      "image/png": "[encoded data removed]",
      "text/plain": [
       "<matplotlib.figure.Figure at 0x123c47668>"
      ]
     },
     "metadata": {},
     "output_type": "display_data"
    }
   ],
   "source": [
    "# Plot each data - use x or o depend on the value of t\n",
    "fig = plt.figure(figsize=(6,6))\n",
    "subplot = fig.add_subplot(1,1,1)\n",
    "subplot.set_ylim([0,30])\n",
    "subplot.set_xlim([0,30])\n",
    "subplot.scatter(train_set1.x1, train_set1.x2, marker='x')\n",
    "subplot.scatter(train_set0.x1, train_set0.x2, marker='o')\n",
    "\n",
    "train_set.T"
   ]
  },
  {
   "cell_type": "markdown",
   "metadata": {},
   "source": [
    "## Training"
   ]
  },
  {
   "cell_type": "code",
   "execution_count": 105,
   "metadata": {},
   "outputs": [
    {
     "data": {
      "text/plain": [
       "<keras.callbacks.History at 0x123a2c400>"
      ]
     },
     "execution_count": 105,
     "metadata": {},
     "output_type": "execute_result"
    }
   ],
   "source": [
    "model.fit(train_x, train_t, epochs=5000, verbose=0)"
   ]
  },
  {
   "cell_type": "code",
   "execution_count": 106,
   "metadata": {},
   "outputs": [
    {
     "data": {
      "text/plain": [
       "[array([[0.12115106],\n",
       "        [0.36255255]], dtype=float32), array([-6.7327747], dtype=float32)]"
      ]
     },
     "execution_count": 106,
     "metadata": {},
     "output_type": "execute_result"
    }
   ],
   "source": [
    "model.get_weights()"
   ]
  },
  {
   "cell_type": "code",
   "execution_count": 112,
   "metadata": {},
   "outputs": [
    {
     "name": "stdout",
     "output_type": "stream",
     "text": [
      "-6.7327747 0.12115106 0.36255255\n"
     ]
    }
   ],
   "source": [
    "ws = model.get_weights()\n",
    "w0_val = ws[1][0]\n",
    "w1_val, w2_val = ws[0][0][0], ws[0][1][0]\n",
    "print(w0_val, w1_val, w2_val)"
   ]
  },
  {
   "cell_type": "code",
   "execution_count": 113,
   "metadata": {},
   "outputs": [
    {
     "data": {
      "text/plain": [
       "<matplotlib.image.AxesImage at 0x124beba90>"
      ]
     },
     "execution_count": 113,
     "metadata": {},
     "output_type": "execute_result"
    },
    {
     "data": {
      "image/png": "[encoded data removed]",
      "text/plain": [
       "<matplotlib.figure.Figure at 0x124b25eb8>"
      ]
     },
     "metadata": {},
     "output_type": "display_data"
    }
   ],
   "source": [
    "# Plot each data - use x or o depend on the value of t\n",
    "fig = plt.figure(figsize=(6,6))\n",
    "subplot = fig.add_subplot(1,1,1)\n",
    "subplot.set_ylim([0,30])\n",
    "subplot.set_xlim([0,30])\n",
    "subplot.scatter(train_set1.x1, train_set1.x2, marker='x')\n",
    "subplot.scatter(train_set0.x1, train_set0.x2, marker='o')\n",
    "\n",
    "# Draw result\n",
    "linex = np.linspace(0,30,10)\n",
    "liney = - (w1_val*linex/w2_val + w0_val/w2_val)\n",
    "subplot.plot(linex, liney)\n",
    "\n",
    "# Draw Gradation\n",
    "field = [[(1 / (1 + np.exp(-(w0_val + w1_val*x1 + w2_val*x2))))\n",
    "          for x1 in np.linspace(0,30,100)]\n",
    "         for x2 in np.linspace(0,30,100)]\n",
    "subplot.imshow(field, origin='lower', extent=(0,30,0,30),\n",
    "               cmap=plt.cm.gray_r, alpha=0.5)"
   ]
  }
 ],
 "metadata": {
  "kernelspec": {
   "display_name": "Python 3",
   "language": "python",
   "name": "python3"
  },
  "language_info": {
   "codemirror_mode": {
    "name": "ipython",
    "version": 3
   },
   "file_extension": ".py",
   "mimetype": "text/x-python",
   "name": "python",
   "nbconvert_exporter": "python",
   "pygments_lexer": "ipython3",
   "version": "3.6.3"
  }
 },
 "nbformat": 4,
 "nbformat_minor": 1
}
